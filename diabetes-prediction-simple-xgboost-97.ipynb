{
 "cells": [
  {
   "cell_type": "markdown",
   "id": "957e0b3b",
   "metadata": {
    "papermill": {
     "duration": 0.0058,
     "end_time": "2023-08-30T09:56:37.006636",
     "exception": false,
     "start_time": "2023-08-30T09:56:37.000836",
     "status": "completed"
    },
    "tags": []
   },
   "source": [
    "### Purpose\n",
    "This notebook is an application of the XGBoost concepts taught in the Intermediate Machine Learning course on Kaggle Learn. XGBoost was used to predict the incidence of diabetes in the dataset; in the last section a comparison is made with a random forest model.\n",
    "\n",
    "Credit for some of the code goes to [BABATUNDEADEKUNLE's Intro XGboost Classification](https://www.kaggle.com/code/babatee/intro-xgboost-classification)."
   ]
  },
  {
   "cell_type": "markdown",
   "id": "8781aa3e",
   "metadata": {
    "papermill": {
     "duration": 0.005069,
     "end_time": "2023-08-30T09:56:37.017217",
     "exception": false,
     "start_time": "2023-08-30T09:56:37.012148",
     "status": "completed"
    },
    "tags": []
   },
   "source": [
    "# Loading Data and Relevant Libraries\n",
    "The libraries below are not a comprehensive list and others will be loaded as we progress."
   ]
  },
  {
   "cell_type": "code",
   "execution_count": 45,
   "id": "fb5058b3",
   "metadata": {
    "_cell_guid": "b1076dfc-b9ad-4769-8c92-a6c4dae69d19",
    "_uuid": "8f2839f25d086af736a60e9eeb907d3b93b6e0e5",
    "execution": {
     "iopub.execute_input": "2023-08-30T09:56:37.030664Z",
     "iopub.status.busy": "2023-08-30T09:56:37.029860Z",
     "iopub.status.idle": "2023-08-30T09:56:37.048547Z",
     "shell.execute_reply": "2023-08-30T09:56:37.047129Z"
    },
    "papermill": {
     "duration": 0.028573,
     "end_time": "2023-08-30T09:56:37.051129",
     "exception": false,
     "start_time": "2023-08-30T09:56:37.022556",
     "status": "completed"
    },
    "tags": []
   },
   "outputs": [],
   "source": [
    "# # This Python 3 environment comes with many helpful analytics libraries installed\n",
    "# # It is defined by the kaggle/python Docker image: https://github.com/kaggle/docker-python\n",
    "# # For example, here's several helpful packages to load\n",
    "\n",
    "# import numpy as np # linear algebra\n",
    "# import pandas as pd # data processing, CSV file I/O (e.g. pd.read_csv)\n",
    "\n",
    "# # Input data files are available in the read-only \"../input/\" directory\n",
    "# # For example, running this (by clicking run or pressing Shift+Enter) will list all files under the input directory\n",
    "\n",
    "# import os\n",
    "# for dirname, _, filenames in os.walk('/kaggle/input'):\n",
    "#     for filename in filenames:\n",
    "#         print(os.path.join(dirname, filename))\n",
    "\n",
    "# # You can write up to 20GB to the current directory (/kaggle/working/) that gets preserved as output when you create a version using \"Save & Run All\" \n",
    "# # You can also write temporary files to /kaggle/temp/, but they won't be saved outside of the current session"
   ]
  },
  {
   "cell_type": "code",
   "execution_count": 46,
   "id": "c9b377ff",
   "metadata": {
    "execution": {
     "iopub.execute_input": "2023-08-30T09:56:37.064661Z",
     "iopub.status.busy": "2023-08-30T09:56:37.064248Z",
     "iopub.status.idle": "2023-08-30T09:56:38.692116Z",
     "shell.execute_reply": "2023-08-30T09:56:38.690766Z"
    },
    "papermill": {
     "duration": 1.637622,
     "end_time": "2023-08-30T09:56:38.694758",
     "exception": false,
     "start_time": "2023-08-30T09:56:37.057136",
     "status": "completed"
    },
    "tags": []
   },
   "outputs": [],
   "source": [
    "from sklearn.model_selection import train_test_split\n",
    "import xgboost as xgb"
   ]
  },
  {
   "cell_type": "markdown",
   "id": "7093c5b5",
   "metadata": {
    "papermill": {
     "duration": 0.005753,
     "end_time": "2023-08-30T09:56:38.706259",
     "exception": false,
     "start_time": "2023-08-30T09:56:38.700506",
     "status": "completed"
    },
    "tags": []
   },
   "source": [
    "# Data Inspection and Preparation"
   ]
  },
  {
   "cell_type": "code",
   "execution_count": 47,
   "id": "e52548ea",
   "metadata": {
    "execution": {
     "iopub.execute_input": "2023-08-30T09:56:38.719373Z",
     "iopub.status.busy": "2023-08-30T09:56:38.719009Z",
     "iopub.status.idle": "2023-08-30T09:56:38.901867Z",
     "shell.execute_reply": "2023-08-30T09:56:38.900737Z"
    },
    "papermill": {
     "duration": 0.192619,
     "end_time": "2023-08-30T09:56:38.904529",
     "exception": false,
     "start_time": "2023-08-30T09:56:38.711910",
     "status": "completed"
    },
    "tags": []
   },
   "outputs": [
    {
     "data": {
      "text/html": [
       "<div>\n",
       "<style scoped>\n",
       "    .dataframe tbody tr th:only-of-type {\n",
       "        vertical-align: middle;\n",
       "    }\n",
       "\n",
       "    .dataframe tbody tr th {\n",
       "        vertical-align: top;\n",
       "    }\n",
       "\n",
       "    .dataframe thead th {\n",
       "        text-align: right;\n",
       "    }\n",
       "</style>\n",
       "<table border=\"1\" class=\"dataframe\">\n",
       "  <thead>\n",
       "    <tr style=\"text-align: right;\">\n",
       "      <th></th>\n",
       "      <th>gender</th>\n",
       "      <th>age</th>\n",
       "      <th>hypertension</th>\n",
       "      <th>heart_disease</th>\n",
       "      <th>smoking_history</th>\n",
       "      <th>bmi</th>\n",
       "      <th>HbA1c_level</th>\n",
       "      <th>blood_glucose_level</th>\n",
       "      <th>diabetes</th>\n",
       "    </tr>\n",
       "  </thead>\n",
       "  <tbody>\n",
       "    <tr>\n",
       "      <th>0</th>\n",
       "      <td>Female</td>\n",
       "      <td>80.0</td>\n",
       "      <td>0</td>\n",
       "      <td>1</td>\n",
       "      <td>never</td>\n",
       "      <td>25.19</td>\n",
       "      <td>6.6</td>\n",
       "      <td>140</td>\n",
       "      <td>0</td>\n",
       "    </tr>\n",
       "    <tr>\n",
       "      <th>1</th>\n",
       "      <td>Female</td>\n",
       "      <td>54.0</td>\n",
       "      <td>0</td>\n",
       "      <td>0</td>\n",
       "      <td>No Info</td>\n",
       "      <td>27.32</td>\n",
       "      <td>6.6</td>\n",
       "      <td>80</td>\n",
       "      <td>0</td>\n",
       "    </tr>\n",
       "    <tr>\n",
       "      <th>2</th>\n",
       "      <td>Male</td>\n",
       "      <td>28.0</td>\n",
       "      <td>0</td>\n",
       "      <td>0</td>\n",
       "      <td>never</td>\n",
       "      <td>27.32</td>\n",
       "      <td>5.7</td>\n",
       "      <td>158</td>\n",
       "      <td>0</td>\n",
       "    </tr>\n",
       "    <tr>\n",
       "      <th>3</th>\n",
       "      <td>Female</td>\n",
       "      <td>36.0</td>\n",
       "      <td>0</td>\n",
       "      <td>0</td>\n",
       "      <td>current</td>\n",
       "      <td>23.45</td>\n",
       "      <td>5.0</td>\n",
       "      <td>155</td>\n",
       "      <td>0</td>\n",
       "    </tr>\n",
       "    <tr>\n",
       "      <th>4</th>\n",
       "      <td>Male</td>\n",
       "      <td>76.0</td>\n",
       "      <td>1</td>\n",
       "      <td>1</td>\n",
       "      <td>current</td>\n",
       "      <td>20.14</td>\n",
       "      <td>4.8</td>\n",
       "      <td>155</td>\n",
       "      <td>0</td>\n",
       "    </tr>\n",
       "  </tbody>\n",
       "</table>\n",
       "</div>"
      ],
      "text/plain": [
       "   gender   age  hypertension  heart_disease smoking_history    bmi  \\\n",
       "0  Female  80.0             0              1           never  25.19   \n",
       "1  Female  54.0             0              0         No Info  27.32   \n",
       "2    Male  28.0             0              0           never  27.32   \n",
       "3  Female  36.0             0              0         current  23.45   \n",
       "4    Male  76.0             1              1         current  20.14   \n",
       "\n",
       "   HbA1c_level  blood_glucose_level  diabetes  \n",
       "0          6.6                  140         0  \n",
       "1          6.6                   80         0  \n",
       "2          5.7                  158         0  \n",
       "3          5.0                  155         0  \n",
       "4          4.8                  155         0  "
      ]
     },
     "execution_count": 47,
     "metadata": {},
     "output_type": "execute_result"
    }
   ],
   "source": [
    "diabetes_df = pd.read_csv('C:/Users/DELL/Desktop/aiml main/diabetes_prediction_dataset.csv')\n",
    "diabetes_df.head() #checking the structure of the data"
   ]
  },
  {
   "cell_type": "code",
   "execution_count": 48,
   "id": "59835295",
   "metadata": {
    "execution": {
     "iopub.execute_input": "2023-08-30T09:56:38.918197Z",
     "iopub.status.busy": "2023-08-30T09:56:38.917813Z",
     "iopub.status.idle": "2023-08-30T09:56:38.925632Z",
     "shell.execute_reply": "2023-08-30T09:56:38.924331Z"
    },
    "papermill": {
     "duration": 0.017382,
     "end_time": "2023-08-30T09:56:38.927805",
     "exception": false,
     "start_time": "2023-08-30T09:56:38.910423",
     "status": "completed"
    },
    "tags": []
   },
   "outputs": [
    {
     "data": {
      "text/plain": [
       "gender                  object\n",
       "age                    float64\n",
       "hypertension             int64\n",
       "heart_disease            int64\n",
       "smoking_history         object\n",
       "bmi                    float64\n",
       "HbA1c_level            float64\n",
       "blood_glucose_level      int64\n",
       "diabetes                 int64\n",
       "dtype: object"
      ]
     },
     "execution_count": 48,
     "metadata": {},
     "output_type": "execute_result"
    }
   ],
   "source": [
    "diabetes_df.dtypes #checking for categorical data types"
   ]
  },
  {
   "cell_type": "markdown",
   "id": "578b0ccd",
   "metadata": {
    "papermill": {
     "duration": 0.005697,
     "end_time": "2023-08-30T09:56:38.939843",
     "exception": false,
     "start_time": "2023-08-30T09:56:38.934146",
     "status": "completed"
    },
    "tags": []
   },
   "source": [
    "### Encoding Categorical Columns\n",
    "I had to encode the categorical columns in a way similar to those used in Random Forest models. XGBoost supposedly allows for categorical elements but I was unable to get the model to run after enabling the setting in the parameters."
   ]
  },
  {
   "cell_type": "code",
   "execution_count": 49,
   "id": "663b7a21",
   "metadata": {
    "execution": {
     "iopub.execute_input": "2023-08-30T09:56:38.954870Z",
     "iopub.status.busy": "2023-08-30T09:56:38.954449Z",
     "iopub.status.idle": "2023-08-30T09:56:39.009334Z",
     "shell.execute_reply": "2023-08-30T09:56:39.008425Z"
    },
    "papermill": {
     "duration": 0.064746,
     "end_time": "2023-08-30T09:56:39.011881",
     "exception": false,
     "start_time": "2023-08-30T09:56:38.947135",
     "status": "completed"
    },
    "tags": []
   },
   "outputs": [],
   "source": [
    "from sklearn.preprocessing import LabelEncoder\n",
    "encoder = LabelEncoder()\n",
    "\n",
    "columns_to_encode = ['gender', 'smoking_history']\n",
    "\n",
    "for column in columns_to_encode:\n",
    "    diabetes_df[column] = encoder.fit_transform(diabetes_df[column])"
   ]
  },
  {
   "cell_type": "code",
   "execution_count": 50,
   "id": "af134e73",
   "metadata": {
    "execution": {
     "iopub.execute_input": "2023-08-30T09:56:39.026475Z",
     "iopub.status.busy": "2023-08-30T09:56:39.025261Z",
     "iopub.status.idle": "2023-08-30T09:56:39.041949Z",
     "shell.execute_reply": "2023-08-30T09:56:39.040931Z"
    },
    "papermill": {
     "duration": 0.026538,
     "end_time": "2023-08-30T09:56:39.044471",
     "exception": false,
     "start_time": "2023-08-30T09:56:39.017933",
     "status": "completed"
    },
    "tags": []
   },
   "outputs": [
    {
     "data": {
      "text/html": [
       "<div>\n",
       "<style scoped>\n",
       "    .dataframe tbody tr th:only-of-type {\n",
       "        vertical-align: middle;\n",
       "    }\n",
       "\n",
       "    .dataframe tbody tr th {\n",
       "        vertical-align: top;\n",
       "    }\n",
       "\n",
       "    .dataframe thead th {\n",
       "        text-align: right;\n",
       "    }\n",
       "</style>\n",
       "<table border=\"1\" class=\"dataframe\">\n",
       "  <thead>\n",
       "    <tr style=\"text-align: right;\">\n",
       "      <th></th>\n",
       "      <th>gender</th>\n",
       "      <th>age</th>\n",
       "      <th>hypertension</th>\n",
       "      <th>heart_disease</th>\n",
       "      <th>smoking_history</th>\n",
       "      <th>bmi</th>\n",
       "      <th>HbA1c_level</th>\n",
       "      <th>blood_glucose_level</th>\n",
       "      <th>diabetes</th>\n",
       "    </tr>\n",
       "  </thead>\n",
       "  <tbody>\n",
       "    <tr>\n",
       "      <th>0</th>\n",
       "      <td>0</td>\n",
       "      <td>80.0</td>\n",
       "      <td>0</td>\n",
       "      <td>1</td>\n",
       "      <td>4</td>\n",
       "      <td>25.19</td>\n",
       "      <td>6.6</td>\n",
       "      <td>140</td>\n",
       "      <td>0</td>\n",
       "    </tr>\n",
       "    <tr>\n",
       "      <th>1</th>\n",
       "      <td>0</td>\n",
       "      <td>54.0</td>\n",
       "      <td>0</td>\n",
       "      <td>0</td>\n",
       "      <td>0</td>\n",
       "      <td>27.32</td>\n",
       "      <td>6.6</td>\n",
       "      <td>80</td>\n",
       "      <td>0</td>\n",
       "    </tr>\n",
       "    <tr>\n",
       "      <th>2</th>\n",
       "      <td>1</td>\n",
       "      <td>28.0</td>\n",
       "      <td>0</td>\n",
       "      <td>0</td>\n",
       "      <td>4</td>\n",
       "      <td>27.32</td>\n",
       "      <td>5.7</td>\n",
       "      <td>158</td>\n",
       "      <td>0</td>\n",
       "    </tr>\n",
       "    <tr>\n",
       "      <th>3</th>\n",
       "      <td>0</td>\n",
       "      <td>36.0</td>\n",
       "      <td>0</td>\n",
       "      <td>0</td>\n",
       "      <td>1</td>\n",
       "      <td>23.45</td>\n",
       "      <td>5.0</td>\n",
       "      <td>155</td>\n",
       "      <td>0</td>\n",
       "    </tr>\n",
       "    <tr>\n",
       "      <th>4</th>\n",
       "      <td>1</td>\n",
       "      <td>76.0</td>\n",
       "      <td>1</td>\n",
       "      <td>1</td>\n",
       "      <td>1</td>\n",
       "      <td>20.14</td>\n",
       "      <td>4.8</td>\n",
       "      <td>155</td>\n",
       "      <td>0</td>\n",
       "    </tr>\n",
       "  </tbody>\n",
       "</table>\n",
       "</div>"
      ],
      "text/plain": [
       "   gender   age  hypertension  heart_disease  smoking_history    bmi  \\\n",
       "0       0  80.0             0              1                4  25.19   \n",
       "1       0  54.0             0              0                0  27.32   \n",
       "2       1  28.0             0              0                4  27.32   \n",
       "3       0  36.0             0              0                1  23.45   \n",
       "4       1  76.0             1              1                1  20.14   \n",
       "\n",
       "   HbA1c_level  blood_glucose_level  diabetes  \n",
       "0          6.6                  140         0  \n",
       "1          6.6                   80         0  \n",
       "2          5.7                  158         0  \n",
       "3          5.0                  155         0  \n",
       "4          4.8                  155         0  "
      ]
     },
     "execution_count": 50,
     "metadata": {},
     "output_type": "execute_result"
    }
   ],
   "source": [
    "diabetes_df.head() #checking that columns have been encoded"
   ]
  },
  {
   "cell_type": "markdown",
   "id": "2f8fe1e4",
   "metadata": {
    "papermill": {
     "duration": 0.006554,
     "end_time": "2023-08-30T09:56:39.057242",
     "exception": false,
     "start_time": "2023-08-30T09:56:39.050688",
     "status": "completed"
    },
    "tags": []
   },
   "source": [
    "# Model Construction and Training"
   ]
  },
  {
   "cell_type": "code",
   "execution_count": 51,
   "id": "cb5ea0b8",
   "metadata": {
    "execution": {
     "iopub.execute_input": "2023-08-30T09:56:39.072162Z",
     "iopub.status.busy": "2023-08-30T09:56:39.071747Z",
     "iopub.status.idle": "2023-08-30T09:56:39.091510Z",
     "shell.execute_reply": "2023-08-30T09:56:39.090252Z"
    },
    "papermill": {
     "duration": 0.030453,
     "end_time": "2023-08-30T09:56:39.094150",
     "exception": false,
     "start_time": "2023-08-30T09:56:39.063697",
     "status": "completed"
    },
    "tags": []
   },
   "outputs": [],
   "source": [
    "diabetes_df_complete = diabetes_df.copy()\n",
    "X = diabetes_df_complete.drop('diabetes', axis=1) #dropping the outcome variable from features (X)\n",
    "y = diabetes_df_complete.diabetes #redefining the outcome variable as y"
   ]
  },
  {
   "cell_type": "code",
   "execution_count": 52,
   "id": "6685749f",
   "metadata": {
    "execution": {
     "iopub.execute_input": "2023-08-30T09:56:39.108388Z",
     "iopub.status.busy": "2023-08-30T09:56:39.108001Z",
     "iopub.status.idle": "2023-08-30T09:56:39.124077Z",
     "shell.execute_reply": "2023-08-30T09:56:39.122766Z"
    },
    "papermill": {
     "duration": 0.025834,
     "end_time": "2023-08-30T09:56:39.126247",
     "exception": false,
     "start_time": "2023-08-30T09:56:39.100413",
     "status": "completed"
    },
    "tags": []
   },
   "outputs": [
    {
     "data": {
      "text/html": [
       "<div>\n",
       "<style scoped>\n",
       "    .dataframe tbody tr th:only-of-type {\n",
       "        vertical-align: middle;\n",
       "    }\n",
       "\n",
       "    .dataframe tbody tr th {\n",
       "        vertical-align: top;\n",
       "    }\n",
       "\n",
       "    .dataframe thead th {\n",
       "        text-align: right;\n",
       "    }\n",
       "</style>\n",
       "<table border=\"1\" class=\"dataframe\">\n",
       "  <thead>\n",
       "    <tr style=\"text-align: right;\">\n",
       "      <th></th>\n",
       "      <th>gender</th>\n",
       "      <th>age</th>\n",
       "      <th>hypertension</th>\n",
       "      <th>heart_disease</th>\n",
       "      <th>smoking_history</th>\n",
       "      <th>bmi</th>\n",
       "      <th>HbA1c_level</th>\n",
       "      <th>blood_glucose_level</th>\n",
       "    </tr>\n",
       "  </thead>\n",
       "  <tbody>\n",
       "    <tr>\n",
       "      <th>0</th>\n",
       "      <td>0</td>\n",
       "      <td>80.0</td>\n",
       "      <td>0</td>\n",
       "      <td>1</td>\n",
       "      <td>4</td>\n",
       "      <td>25.19</td>\n",
       "      <td>6.6</td>\n",
       "      <td>140</td>\n",
       "    </tr>\n",
       "    <tr>\n",
       "      <th>1</th>\n",
       "      <td>0</td>\n",
       "      <td>54.0</td>\n",
       "      <td>0</td>\n",
       "      <td>0</td>\n",
       "      <td>0</td>\n",
       "      <td>27.32</td>\n",
       "      <td>6.6</td>\n",
       "      <td>80</td>\n",
       "    </tr>\n",
       "    <tr>\n",
       "      <th>2</th>\n",
       "      <td>1</td>\n",
       "      <td>28.0</td>\n",
       "      <td>0</td>\n",
       "      <td>0</td>\n",
       "      <td>4</td>\n",
       "      <td>27.32</td>\n",
       "      <td>5.7</td>\n",
       "      <td>158</td>\n",
       "    </tr>\n",
       "    <tr>\n",
       "      <th>3</th>\n",
       "      <td>0</td>\n",
       "      <td>36.0</td>\n",
       "      <td>0</td>\n",
       "      <td>0</td>\n",
       "      <td>1</td>\n",
       "      <td>23.45</td>\n",
       "      <td>5.0</td>\n",
       "      <td>155</td>\n",
       "    </tr>\n",
       "    <tr>\n",
       "      <th>4</th>\n",
       "      <td>1</td>\n",
       "      <td>76.0</td>\n",
       "      <td>1</td>\n",
       "      <td>1</td>\n",
       "      <td>1</td>\n",
       "      <td>20.14</td>\n",
       "      <td>4.8</td>\n",
       "      <td>155</td>\n",
       "    </tr>\n",
       "  </tbody>\n",
       "</table>\n",
       "</div>"
      ],
      "text/plain": [
       "   gender   age  hypertension  heart_disease  smoking_history    bmi  \\\n",
       "0       0  80.0             0              1                4  25.19   \n",
       "1       0  54.0             0              0                0  27.32   \n",
       "2       1  28.0             0              0                4  27.32   \n",
       "3       0  36.0             0              0                1  23.45   \n",
       "4       1  76.0             1              1                1  20.14   \n",
       "\n",
       "   HbA1c_level  blood_glucose_level  \n",
       "0          6.6                  140  \n",
       "1          6.6                   80  \n",
       "2          5.7                  158  \n",
       "3          5.0                  155  \n",
       "4          4.8                  155  "
      ]
     },
     "execution_count": 52,
     "metadata": {},
     "output_type": "execute_result"
    }
   ],
   "source": [
    "X.head() #checking that features are correct"
   ]
  },
  {
   "cell_type": "code",
   "execution_count": 53,
   "id": "6fc94e7e",
   "metadata": {
    "execution": {
     "iopub.execute_input": "2023-08-30T09:56:39.141531Z",
     "iopub.status.busy": "2023-08-30T09:56:39.140459Z",
     "iopub.status.idle": "2023-08-30T09:56:39.163482Z",
     "shell.execute_reply": "2023-08-30T09:56:39.162209Z"
    },
    "papermill": {
     "duration": 0.033336,
     "end_time": "2023-08-30T09:56:39.165944",
     "exception": false,
     "start_time": "2023-08-30T09:56:39.132608",
     "status": "completed"
    },
    "tags": []
   },
   "outputs": [],
   "source": [
    "# Separating the dataset into training and validation sets\n",
    "X_train, X_valid, y_train, y_valid = train_test_split(X, y, test_size = 0.2,random_state=42)"
   ]
  },
  {
   "cell_type": "markdown",
   "id": "b08862a1",
   "metadata": {
    "papermill": {
     "duration": 0.006119,
     "end_time": "2023-08-30T09:56:39.178539",
     "exception": false,
     "start_time": "2023-08-30T09:56:39.172420",
     "status": "completed"
    },
    "tags": []
   },
   "source": [
    "In this notebook I constructed two XGBoost models.\n",
    "\n",
    "model_1 - Simple model with no parameter tunings. \n",
    "\n",
    "model_2 - Uses basic parameter tunings specific in the Intermediate Machine Learning course:\n",
    "* n_estimators - Assuming that the default is 500, I doubled the number hoping to increase the accuracy of the model.\n",
    "* learning_rate - The default value is 0.1, a smaller number suggests better model accuracy but takes longer to run.\n",
    "* n_jobs - Parallelism used for large datasets to decrease runtime, but shouldn't actually affect model accuracy."
   ]
  },
  {
   "cell_type": "code",
   "execution_count": 54,
   "id": "04c8420c",
   "metadata": {
    "execution": {
     "iopub.execute_input": "2023-08-30T09:56:39.193155Z",
     "iopub.status.busy": "2023-08-30T09:56:39.192738Z",
     "iopub.status.idle": "2023-08-30T09:56:49.838704Z",
     "shell.execute_reply": "2023-08-30T09:56:49.837800Z"
    },
    "papermill": {
     "duration": 10.656419,
     "end_time": "2023-08-30T09:56:49.841253",
     "exception": false,
     "start_time": "2023-08-30T09:56:39.184834",
     "status": "completed"
    },
    "tags": []
   },
   "outputs": [
    {
     "name": "stderr",
     "output_type": "stream",
     "text": [
      "c:\\Python37\\lib\\site-packages\\xgboost\\sklearn.py:797: UserWarning: `early_stopping_rounds` in `fit` method is deprecated for better compatibility with scikit-learn, use `early_stopping_rounds` in constructor or`set_params` instead.\n",
      "  UserWarning,\n"
     ]
    }
   ],
   "source": [
    "#Simple XGBoost model\n",
    "diabetes_model_1 = xgb.XGBClassifier()\n",
    "diabetes_model_1_train = diabetes_model_1.fit(X_train, y_train)\n",
    "\n",
    "#XGBoost model with basic parameter tuning\n",
    "diabetes_model_2 = xgb.XGBClassifier(n_estimators=1000, learning_rate=0.05, n_jobs=4)\n",
    "diabetes_model_2_train = diabetes_model_2.fit(X_train, y_train, \n",
    "             early_stopping_rounds=5, \n",
    "             eval_set=[(X_valid, y_valid)], \n",
    "             verbose=False)"
   ]
  },
  {
   "cell_type": "markdown",
   "id": "de84dc64",
   "metadata": {
    "papermill": {
     "duration": 0.006144,
     "end_time": "2023-08-30T09:56:49.854002",
     "exception": false,
     "start_time": "2023-08-30T09:56:49.847858",
     "status": "completed"
    },
    "tags": []
   },
   "source": [
    "# Classification Reports and Accuracy Scores"
   ]
  },
  {
   "cell_type": "code",
   "execution_count": 55,
   "id": "8c5a2adf",
   "metadata": {
    "execution": {
     "iopub.execute_input": "2023-08-30T09:56:49.870443Z",
     "iopub.status.busy": "2023-08-30T09:56:49.868197Z",
     "iopub.status.idle": "2023-08-30T09:56:50.002651Z",
     "shell.execute_reply": "2023-08-30T09:56:50.001381Z"
    },
    "papermill": {
     "duration": 0.144604,
     "end_time": "2023-08-30T09:56:50.005031",
     "exception": false,
     "start_time": "2023-08-30T09:56:49.860427",
     "status": "completed"
    },
    "tags": []
   },
   "outputs": [
    {
     "name": "stdout",
     "output_type": "stream",
     "text": [
      "model_1 XGBoost Report '              precision    recall  f1-score   support\\n\\n           0       0.97      1.00      0.98     18292\\n           1       0.96      0.70      0.81      1708\\n\\n    accuracy                           0.97     20000\\n   macro avg       0.97      0.85      0.90     20000\\nweighted avg       0.97      0.97      0.97     20000\\n'\n",
      "model_2 XGBoost Report '              precision    recall  f1-score   support\\n\\n           0       0.97      1.00      0.99     18292\\n           1       0.99      0.69      0.81      1708\\n\\n    accuracy                           0.97     20000\\n   macro avg       0.98      0.84      0.90     20000\\nweighted avg       0.97      0.97      0.97     20000\\n'\n"
     ]
    }
   ],
   "source": [
    "from sklearn.metrics import classification_report\n",
    "\n",
    "diabetes_pred1 = diabetes_model_1_train.predict(X_valid)\n",
    "\n",
    "diabetes_pred2 = diabetes_model_2_train.predict(X_valid)\n",
    "\n",
    "print('model_1 XGBoost Report %r' % (classification_report(y_valid, diabetes_pred1)))\n",
    "print('model_2 XGBoost Report %r' % (classification_report(y_valid, diabetes_pred2)))"
   ]
  },
  {
   "cell_type": "code",
   "execution_count": 56,
   "id": "c18a3b9f",
   "metadata": {
    "execution": {
     "iopub.execute_input": "2023-08-30T09:56:50.020838Z",
     "iopub.status.busy": "2023-08-30T09:56:50.019976Z",
     "iopub.status.idle": "2023-08-30T09:56:50.031484Z",
     "shell.execute_reply": "2023-08-30T09:56:50.030400Z"
    },
    "papermill": {
     "duration": 0.022119,
     "end_time": "2023-08-30T09:56:50.033823",
     "exception": false,
     "start_time": "2023-08-30T09:56:50.011704",
     "status": "completed"
    },
    "tags": []
   },
   "outputs": [
    {
     "name": "stdout",
     "output_type": "stream",
     "text": [
      "Accuracy for model 1: 97.14\n",
      "Accuracy for model 2: 97.25\n"
     ]
    }
   ],
   "source": [
    "from sklearn.metrics import accuracy_score\n",
    "\n",
    "print(\"Accuracy for model 1: %.2f\" % (accuracy_score(y_valid, diabetes_pred1) * 100))\n",
    "print(\"Accuracy for model 2: %.2f\" % (accuracy_score(y_valid, diabetes_pred2) * 100))"
   ]
  },
  {
   "cell_type": "markdown",
   "id": "0b57768d",
   "metadata": {
    "papermill": {
     "duration": 0.006336,
     "end_time": "2023-08-30T09:56:50.047303",
     "exception": false,
     "start_time": "2023-08-30T09:56:50.040967",
     "status": "completed"
    },
    "tags": []
   },
   "source": [
    "From the classification reports, both models achieved high accuracy scores (97%). Parameter tuning only slightly improved model performance (97.14% vs 97.25%), this is probably because my adjustments were relatively conservative and not drastic enough to effect larger changes."
   ]
  },
  {
   "cell_type": "markdown",
   "id": "e466f14f",
   "metadata": {
    "papermill": {
     "duration": 0.00622,
     "end_time": "2023-08-30T09:56:50.060217",
     "exception": false,
     "start_time": "2023-08-30T09:56:50.053997",
     "status": "completed"
    },
    "tags": []
   },
   "source": [
    "### Random Forest for Comparison"
   ]
  },
  {
   "cell_type": "code",
   "execution_count": 57,
   "id": "844e23a0",
   "metadata": {
    "execution": {
     "iopub.execute_input": "2023-08-30T09:56:50.074920Z",
     "iopub.status.busy": "2023-08-30T09:56:50.074485Z",
     "iopub.status.idle": "2023-08-30T09:56:57.982189Z",
     "shell.execute_reply": "2023-08-30T09:56:57.980490Z"
    },
    "papermill": {
     "duration": 7.9178,
     "end_time": "2023-08-30T09:56:57.984378",
     "exception": false,
     "start_time": "2023-08-30T09:56:50.066578",
     "status": "completed"
    },
    "tags": []
   },
   "outputs": [
    {
     "name": "stdout",
     "output_type": "stream",
     "text": [
      "Accuracy for Random Forest Model: 97.02\n"
     ]
    }
   ],
   "source": [
    "from sklearn.ensemble import RandomForestClassifier\n",
    "\n",
    "rfc = RandomForestClassifier()\n",
    "rfc_model = rfc.fit(X_train, y_train)\n",
    "pred_rf = rfc_model.predict(X_valid)\n",
    "print(\"Accuracy for Random Forest Model: %.2f\" % (accuracy_score(y_valid, pred_rf) * 100))"
   ]
  },
  {
   "cell_type": "markdown",
   "id": "f347430d",
   "metadata": {
    "papermill": {
     "duration": 0.006271,
     "end_time": "2023-08-30T09:56:57.997264",
     "exception": false,
     "start_time": "2023-08-30T09:56:57.990993",
     "status": "completed"
    },
    "tags": []
   },
   "source": [
    "For comparison, a random forest model was run and the accuracy scores were compared with the two XGBoost models. The random forest model produced a comparable level of accuracy (97%) and was only marginally worse than employing XGBoost."
   ]
  },
  {
   "cell_type": "markdown",
   "id": "f10daee9",
   "metadata": {
    "papermill": {
     "duration": 0.006297,
     "end_time": "2023-08-30T09:56:58.010084",
     "exception": false,
     "start_time": "2023-08-30T09:56:58.003787",
     "status": "completed"
    },
    "tags": []
   },
   "source": [
    "### Conclusions\n",
    "* XGBoost and random forest models both achieved high levels of accuracy (97%).\n",
    "* The difference between the XGBoost models (with paramter tuning) and random forest was small, with XGBoost producing slightly more accurate predictions.\n",
    "* Further exploration with more radical parameter tunings may affect XGBoost model performance more significantly."
   ]
  },
  {
   "cell_type": "code",
   "execution_count": null,
   "id": "09fa9772",
   "metadata": {
    "papermill": {
     "duration": 0.006313,
     "end_time": "2023-08-30T09:56:58.023102",
     "exception": false,
     "start_time": "2023-08-30T09:56:58.016789",
     "status": "completed"
    },
    "tags": []
   },
   "outputs": [],
   "source": []
  }
 ],
 "metadata": {
  "kernelspec": {
   "display_name": "Python 3",
   "language": "python",
   "name": "python3"
  },
  "language_info": {
   "codemirror_mode": {
    "name": "ipython",
    "version": 3
   },
   "file_extension": ".py",
   "mimetype": "text/x-python",
   "name": "python",
   "nbconvert_exporter": "python",
   "pygments_lexer": "ipython3",
   "version": "3.7.1"
  },
  "papermill": {
   "default_parameters": {},
   "duration": 31.653274,
   "end_time": "2023-08-30T09:56:58.952600",
   "environment_variables": {},
   "exception": null,
   "input_path": "__notebook__.ipynb",
   "output_path": "__notebook__.ipynb",
   "parameters": {},
   "start_time": "2023-08-30T09:56:27.299326",
   "version": "2.4.0"
  }
 },
 "nbformat": 4,
 "nbformat_minor": 5
}
