{
 "cells": [
  {
   "cell_type": "code",
   "execution_count": 56,
   "id": "e315622d",
   "metadata": {
    "_cell_guid": "b1076dfc-b9ad-4769-8c92-a6c4dae69d19",
    "_uuid": "8f2839f25d086af736a60e9eeb907d3b93b6e0e5",
    "execution": {
     "iopub.execute_input": "2023-05-17T14:11:50.981768Z",
     "iopub.status.busy": "2023-05-17T14:11:50.981283Z",
     "iopub.status.idle": "2023-05-17T14:11:52.631013Z",
     "shell.execute_reply": "2023-05-17T14:11:52.629076Z"
    },
    "papermill": {
     "duration": 1.684534,
     "end_time": "2023-05-17T14:11:52.634703",
     "exception": false,
     "start_time": "2023-05-17T14:11:50.950169",
     "status": "completed"
    },
    "tags": []
   },
   "outputs": [],
   "source": [
    "\n",
    "\n",
    "import numpy as np # linear algebra\n",
    "import pandas as pd # data processing, CSV file I/O (e.g. pd.read_csv)\n",
    "import matplotlib.pyplot as plt\n",
    "import seaborn as sns\n",
    "from sklearn.metrics import confusion_matrix, accuracy_score, f1_score\n"
   ]
  },
  {
   "cell_type": "markdown",
   "id": "a5d33fe0",
   "metadata": {
    "papermill": {
     "duration": 0.028494,
     "end_time": "2023-05-17T14:11:52.689971",
     "exception": false,
     "start_time": "2023-05-17T14:11:52.661477",
     "status": "completed"
    },
    "tags": []
   },
   "source": [
    "## Importing the dataset"
   ]
  },
  {
   "cell_type": "code",
   "execution_count": 57,
   "id": "efa85736",
   "metadata": {
    "execution": {
     "iopub.execute_input": "2023-05-17T14:11:52.746649Z",
     "iopub.status.busy": "2023-05-17T14:11:52.746158Z",
     "iopub.status.idle": "2023-05-17T14:11:52.972314Z",
     "shell.execute_reply": "2023-05-17T14:11:52.970986Z"
    },
    "papermill": {
     "duration": 0.258817,
     "end_time": "2023-05-17T14:11:52.975756",
     "exception": false,
     "start_time": "2023-05-17T14:11:52.716939",
     "status": "completed"
    },
    "tags": []
   },
   "outputs": [
    {
     "data": {
      "text/html": [
       "<div>\n",
       "<style scoped>\n",
       "    .dataframe tbody tr th:only-of-type {\n",
       "        vertical-align: middle;\n",
       "    }\n",
       "\n",
       "    .dataframe tbody tr th {\n",
       "        vertical-align: top;\n",
       "    }\n",
       "\n",
       "    .dataframe thead th {\n",
       "        text-align: right;\n",
       "    }\n",
       "</style>\n",
       "<table border=\"1\" class=\"dataframe\">\n",
       "  <thead>\n",
       "    <tr style=\"text-align: right;\">\n",
       "      <th></th>\n",
       "      <th>gender</th>\n",
       "      <th>age</th>\n",
       "      <th>hypertension</th>\n",
       "      <th>heart_disease</th>\n",
       "      <th>smoking_history</th>\n",
       "      <th>bmi</th>\n",
       "      <th>HbA1c_level</th>\n",
       "      <th>blood_glucose_level</th>\n",
       "      <th>diabetes</th>\n",
       "    </tr>\n",
       "  </thead>\n",
       "  <tbody>\n",
       "    <tr>\n",
       "      <th>0</th>\n",
       "      <td>Female</td>\n",
       "      <td>80.0</td>\n",
       "      <td>0</td>\n",
       "      <td>1</td>\n",
       "      <td>never</td>\n",
       "      <td>25.19</td>\n",
       "      <td>6.6</td>\n",
       "      <td>140</td>\n",
       "      <td>0</td>\n",
       "    </tr>\n",
       "    <tr>\n",
       "      <th>1</th>\n",
       "      <td>Female</td>\n",
       "      <td>54.0</td>\n",
       "      <td>0</td>\n",
       "      <td>0</td>\n",
       "      <td>No Info</td>\n",
       "      <td>27.32</td>\n",
       "      <td>6.6</td>\n",
       "      <td>80</td>\n",
       "      <td>0</td>\n",
       "    </tr>\n",
       "    <tr>\n",
       "      <th>2</th>\n",
       "      <td>Male</td>\n",
       "      <td>28.0</td>\n",
       "      <td>0</td>\n",
       "      <td>0</td>\n",
       "      <td>never</td>\n",
       "      <td>27.32</td>\n",
       "      <td>5.7</td>\n",
       "      <td>158</td>\n",
       "      <td>0</td>\n",
       "    </tr>\n",
       "    <tr>\n",
       "      <th>3</th>\n",
       "      <td>Female</td>\n",
       "      <td>36.0</td>\n",
       "      <td>0</td>\n",
       "      <td>0</td>\n",
       "      <td>current</td>\n",
       "      <td>23.45</td>\n",
       "      <td>5.0</td>\n",
       "      <td>155</td>\n",
       "      <td>0</td>\n",
       "    </tr>\n",
       "    <tr>\n",
       "      <th>4</th>\n",
       "      <td>Male</td>\n",
       "      <td>76.0</td>\n",
       "      <td>1</td>\n",
       "      <td>1</td>\n",
       "      <td>current</td>\n",
       "      <td>20.14</td>\n",
       "      <td>4.8</td>\n",
       "      <td>155</td>\n",
       "      <td>0</td>\n",
       "    </tr>\n",
       "    <tr>\n",
       "      <th>...</th>\n",
       "      <td>...</td>\n",
       "      <td>...</td>\n",
       "      <td>...</td>\n",
       "      <td>...</td>\n",
       "      <td>...</td>\n",
       "      <td>...</td>\n",
       "      <td>...</td>\n",
       "      <td>...</td>\n",
       "      <td>...</td>\n",
       "    </tr>\n",
       "    <tr>\n",
       "      <th>99995</th>\n",
       "      <td>Female</td>\n",
       "      <td>80.0</td>\n",
       "      <td>0</td>\n",
       "      <td>0</td>\n",
       "      <td>No Info</td>\n",
       "      <td>27.32</td>\n",
       "      <td>6.2</td>\n",
       "      <td>90</td>\n",
       "      <td>0</td>\n",
       "    </tr>\n",
       "    <tr>\n",
       "      <th>99996</th>\n",
       "      <td>Female</td>\n",
       "      <td>2.0</td>\n",
       "      <td>0</td>\n",
       "      <td>0</td>\n",
       "      <td>No Info</td>\n",
       "      <td>17.37</td>\n",
       "      <td>6.5</td>\n",
       "      <td>100</td>\n",
       "      <td>0</td>\n",
       "    </tr>\n",
       "    <tr>\n",
       "      <th>99997</th>\n",
       "      <td>Male</td>\n",
       "      <td>66.0</td>\n",
       "      <td>0</td>\n",
       "      <td>0</td>\n",
       "      <td>former</td>\n",
       "      <td>27.83</td>\n",
       "      <td>5.7</td>\n",
       "      <td>155</td>\n",
       "      <td>0</td>\n",
       "    </tr>\n",
       "    <tr>\n",
       "      <th>99998</th>\n",
       "      <td>Female</td>\n",
       "      <td>24.0</td>\n",
       "      <td>0</td>\n",
       "      <td>0</td>\n",
       "      <td>never</td>\n",
       "      <td>35.42</td>\n",
       "      <td>4.0</td>\n",
       "      <td>100</td>\n",
       "      <td>0</td>\n",
       "    </tr>\n",
       "    <tr>\n",
       "      <th>99999</th>\n",
       "      <td>Female</td>\n",
       "      <td>57.0</td>\n",
       "      <td>0</td>\n",
       "      <td>0</td>\n",
       "      <td>current</td>\n",
       "      <td>22.43</td>\n",
       "      <td>6.6</td>\n",
       "      <td>90</td>\n",
       "      <td>0</td>\n",
       "    </tr>\n",
       "  </tbody>\n",
       "</table>\n",
       "<p>100000 rows × 9 columns</p>\n",
       "</div>"
      ],
      "text/plain": [
       "       gender   age  hypertension  heart_disease smoking_history    bmi  \\\n",
       "0      Female  80.0             0              1           never  25.19   \n",
       "1      Female  54.0             0              0         No Info  27.32   \n",
       "2        Male  28.0             0              0           never  27.32   \n",
       "3      Female  36.0             0              0         current  23.45   \n",
       "4        Male  76.0             1              1         current  20.14   \n",
       "...       ...   ...           ...            ...             ...    ...   \n",
       "99995  Female  80.0             0              0         No Info  27.32   \n",
       "99996  Female   2.0             0              0         No Info  17.37   \n",
       "99997    Male  66.0             0              0          former  27.83   \n",
       "99998  Female  24.0             0              0           never  35.42   \n",
       "99999  Female  57.0             0              0         current  22.43   \n",
       "\n",
       "       HbA1c_level  blood_glucose_level  diabetes  \n",
       "0              6.6                  140         0  \n",
       "1              6.6                   80         0  \n",
       "2              5.7                  158         0  \n",
       "3              5.0                  155         0  \n",
       "4              4.8                  155         0  \n",
       "...            ...                  ...       ...  \n",
       "99995          6.2                   90         0  \n",
       "99996          6.5                  100         0  \n",
       "99997          5.7                  155         0  \n",
       "99998          4.0                  100         0  \n",
       "99999          6.6                   90         0  \n",
       "\n",
       "[100000 rows x 9 columns]"
      ]
     },
     "execution_count": 57,
     "metadata": {},
     "output_type": "execute_result"
    }
   ],
   "source": [
    "data = pd.read_csv('C:/Users/DELL/Desktop/aiml main/diabetes_prediction_dataset.csv')\n",
    "data"
   ]
  },
  {
   "cell_type": "markdown",
   "id": "9b3b81d8",
   "metadata": {
    "papermill": {
     "duration": 0.026505,
     "end_time": "2023-05-17T14:11:53.029271",
     "exception": false,
     "start_time": "2023-05-17T14:11:53.002766",
     "status": "completed"
    },
    "tags": []
   },
   "source": [
    "## Analysis of dataset"
   ]
  },
  {
   "cell_type": "code",
   "execution_count": 58,
   "id": "138533e2",
   "metadata": {
    "execution": {
     "iopub.execute_input": "2023-05-17T14:11:53.086551Z",
     "iopub.status.busy": "2023-05-17T14:11:53.085879Z",
     "iopub.status.idle": "2023-05-17T14:11:53.121820Z",
     "shell.execute_reply": "2023-05-17T14:11:53.120490Z"
    },
    "papermill": {
     "duration": 0.067253,
     "end_time": "2023-05-17T14:11:53.124423",
     "exception": false,
     "start_time": "2023-05-17T14:11:53.057170",
     "status": "completed"
    },
    "tags": []
   },
   "outputs": [
    {
     "data": {
      "text/plain": [
       "gender                 0\n",
       "age                    0\n",
       "hypertension           0\n",
       "heart_disease          0\n",
       "smoking_history        0\n",
       "bmi                    0\n",
       "HbA1c_level            0\n",
       "blood_glucose_level    0\n",
       "diabetes               0\n",
       "dtype: int64"
      ]
     },
     "execution_count": 58,
     "metadata": {},
     "output_type": "execute_result"
    }
   ],
   "source": [
    "## First check null entries\n",
    "data.isnull().sum()"
   ]
  },
  {
   "cell_type": "code",
   "execution_count": 59,
   "id": "3ecce828",
   "metadata": {
    "execution": {
     "iopub.execute_input": "2023-05-17T14:11:53.180056Z",
     "iopub.status.busy": "2023-05-17T14:11:53.179324Z",
     "iopub.status.idle": "2023-05-17T14:11:53.254510Z",
     "shell.execute_reply": "2023-05-17T14:11:53.253164Z"
    },
    "papermill": {
     "duration": 0.10638,
     "end_time": "2023-05-17T14:11:53.257317",
     "exception": false,
     "start_time": "2023-05-17T14:11:53.150937",
     "status": "completed"
    },
    "tags": []
   },
   "outputs": [
    {
     "data": {
      "text/html": [
       "<div>\n",
       "<style scoped>\n",
       "    .dataframe tbody tr th:only-of-type {\n",
       "        vertical-align: middle;\n",
       "    }\n",
       "\n",
       "    .dataframe tbody tr th {\n",
       "        vertical-align: top;\n",
       "    }\n",
       "\n",
       "    .dataframe thead th {\n",
       "        text-align: right;\n",
       "    }\n",
       "</style>\n",
       "<table border=\"1\" class=\"dataframe\">\n",
       "  <thead>\n",
       "    <tr style=\"text-align: right;\">\n",
       "      <th></th>\n",
       "      <th>gender</th>\n",
       "      <th>age</th>\n",
       "      <th>hypertension</th>\n",
       "      <th>heart_disease</th>\n",
       "      <th>smoking_history</th>\n",
       "      <th>bmi</th>\n",
       "      <th>HbA1c_level</th>\n",
       "      <th>blood_glucose_level</th>\n",
       "      <th>diabetes</th>\n",
       "    </tr>\n",
       "  </thead>\n",
       "  <tbody>\n",
       "    <tr>\n",
       "      <th>0</th>\n",
       "      <td>Female</td>\n",
       "      <td>80.0</td>\n",
       "      <td>0</td>\n",
       "      <td>1</td>\n",
       "      <td>never</td>\n",
       "      <td>25.19</td>\n",
       "      <td>6.6</td>\n",
       "      <td>140</td>\n",
       "      <td>0</td>\n",
       "    </tr>\n",
       "    <tr>\n",
       "      <th>1</th>\n",
       "      <td>Female</td>\n",
       "      <td>54.0</td>\n",
       "      <td>0</td>\n",
       "      <td>0</td>\n",
       "      <td>No Info</td>\n",
       "      <td>27.32</td>\n",
       "      <td>6.6</td>\n",
       "      <td>80</td>\n",
       "      <td>0</td>\n",
       "    </tr>\n",
       "    <tr>\n",
       "      <th>2</th>\n",
       "      <td>Male</td>\n",
       "      <td>28.0</td>\n",
       "      <td>0</td>\n",
       "      <td>0</td>\n",
       "      <td>never</td>\n",
       "      <td>27.32</td>\n",
       "      <td>5.7</td>\n",
       "      <td>158</td>\n",
       "      <td>0</td>\n",
       "    </tr>\n",
       "    <tr>\n",
       "      <th>3</th>\n",
       "      <td>Female</td>\n",
       "      <td>36.0</td>\n",
       "      <td>0</td>\n",
       "      <td>0</td>\n",
       "      <td>current</td>\n",
       "      <td>23.45</td>\n",
       "      <td>5.0</td>\n",
       "      <td>155</td>\n",
       "      <td>0</td>\n",
       "    </tr>\n",
       "    <tr>\n",
       "      <th>4</th>\n",
       "      <td>Male</td>\n",
       "      <td>76.0</td>\n",
       "      <td>1</td>\n",
       "      <td>1</td>\n",
       "      <td>current</td>\n",
       "      <td>20.14</td>\n",
       "      <td>4.8</td>\n",
       "      <td>155</td>\n",
       "      <td>0</td>\n",
       "    </tr>\n",
       "    <tr>\n",
       "      <th>...</th>\n",
       "      <td>...</td>\n",
       "      <td>...</td>\n",
       "      <td>...</td>\n",
       "      <td>...</td>\n",
       "      <td>...</td>\n",
       "      <td>...</td>\n",
       "      <td>...</td>\n",
       "      <td>...</td>\n",
       "      <td>...</td>\n",
       "    </tr>\n",
       "    <tr>\n",
       "      <th>99994</th>\n",
       "      <td>Female</td>\n",
       "      <td>36.0</td>\n",
       "      <td>0</td>\n",
       "      <td>0</td>\n",
       "      <td>No Info</td>\n",
       "      <td>24.60</td>\n",
       "      <td>4.8</td>\n",
       "      <td>145</td>\n",
       "      <td>0</td>\n",
       "    </tr>\n",
       "    <tr>\n",
       "      <th>99996</th>\n",
       "      <td>Female</td>\n",
       "      <td>2.0</td>\n",
       "      <td>0</td>\n",
       "      <td>0</td>\n",
       "      <td>No Info</td>\n",
       "      <td>17.37</td>\n",
       "      <td>6.5</td>\n",
       "      <td>100</td>\n",
       "      <td>0</td>\n",
       "    </tr>\n",
       "    <tr>\n",
       "      <th>99997</th>\n",
       "      <td>Male</td>\n",
       "      <td>66.0</td>\n",
       "      <td>0</td>\n",
       "      <td>0</td>\n",
       "      <td>former</td>\n",
       "      <td>27.83</td>\n",
       "      <td>5.7</td>\n",
       "      <td>155</td>\n",
       "      <td>0</td>\n",
       "    </tr>\n",
       "    <tr>\n",
       "      <th>99998</th>\n",
       "      <td>Female</td>\n",
       "      <td>24.0</td>\n",
       "      <td>0</td>\n",
       "      <td>0</td>\n",
       "      <td>never</td>\n",
       "      <td>35.42</td>\n",
       "      <td>4.0</td>\n",
       "      <td>100</td>\n",
       "      <td>0</td>\n",
       "    </tr>\n",
       "    <tr>\n",
       "      <th>99999</th>\n",
       "      <td>Female</td>\n",
       "      <td>57.0</td>\n",
       "      <td>0</td>\n",
       "      <td>0</td>\n",
       "      <td>current</td>\n",
       "      <td>22.43</td>\n",
       "      <td>6.6</td>\n",
       "      <td>90</td>\n",
       "      <td>0</td>\n",
       "    </tr>\n",
       "  </tbody>\n",
       "</table>\n",
       "<p>96146 rows × 9 columns</p>\n",
       "</div>"
      ],
      "text/plain": [
       "       gender   age  hypertension  heart_disease smoking_history    bmi  \\\n",
       "0      Female  80.0             0              1           never  25.19   \n",
       "1      Female  54.0             0              0         No Info  27.32   \n",
       "2        Male  28.0             0              0           never  27.32   \n",
       "3      Female  36.0             0              0         current  23.45   \n",
       "4        Male  76.0             1              1         current  20.14   \n",
       "...       ...   ...           ...            ...             ...    ...   \n",
       "99994  Female  36.0             0              0         No Info  24.60   \n",
       "99996  Female   2.0             0              0         No Info  17.37   \n",
       "99997    Male  66.0             0              0          former  27.83   \n",
       "99998  Female  24.0             0              0           never  35.42   \n",
       "99999  Female  57.0             0              0         current  22.43   \n",
       "\n",
       "       HbA1c_level  blood_glucose_level  diabetes  \n",
       "0              6.6                  140         0  \n",
       "1              6.6                   80         0  \n",
       "2              5.7                  158         0  \n",
       "3              5.0                  155         0  \n",
       "4              4.8                  155         0  \n",
       "...            ...                  ...       ...  \n",
       "99994          4.8                  145         0  \n",
       "99996          6.5                  100         0  \n",
       "99997          5.7                  155         0  \n",
       "99998          4.0                  100         0  \n",
       "99999          6.6                   90         0  \n",
       "\n",
       "[96146 rows x 9 columns]"
      ]
     },
     "execution_count": 59,
     "metadata": {},
     "output_type": "execute_result"
    }
   ],
   "source": [
    "## Now, check for duplicate rows\n",
    "data.drop_duplicates(inplace=True)\n",
    "data"
   ]
  },
  {
   "cell_type": "code",
   "execution_count": 60,
   "id": "9da85d2f",
   "metadata": {
    "execution": {
     "iopub.execute_input": "2023-05-17T14:11:53.313877Z",
     "iopub.status.busy": "2023-05-17T14:11:53.313149Z",
     "iopub.status.idle": "2023-05-17T14:11:53.339496Z",
     "shell.execute_reply": "2023-05-17T14:11:53.338103Z"
    },
    "papermill": {
     "duration": 0.058218,
     "end_time": "2023-05-17T14:11:53.342520",
     "exception": false,
     "start_time": "2023-05-17T14:11:53.284302",
     "status": "completed"
    },
    "tags": []
   },
   "outputs": [
    {
     "data": {
      "text/plain": [
       "Female    56161\n",
       "Male      39967\n",
       "Other        18\n",
       "Name: gender, dtype: int64"
      ]
     },
     "execution_count": 60,
     "metadata": {},
     "output_type": "execute_result"
    }
   ],
   "source": [
    "data['gender'].value_counts()"
   ]
  },
  {
   "cell_type": "code",
   "execution_count": 61,
   "id": "071ed2c7",
   "metadata": {
    "execution": {
     "iopub.execute_input": "2023-05-17T14:11:53.400237Z",
     "iopub.status.busy": "2023-05-17T14:11:53.399768Z",
     "iopub.status.idle": "2023-05-17T14:11:53.465613Z",
     "shell.execute_reply": "2023-05-17T14:11:53.464240Z"
    },
    "papermill": {
     "duration": 0.098687,
     "end_time": "2023-05-17T14:11:53.468437",
     "exception": false,
     "start_time": "2023-05-17T14:11:53.369750",
     "status": "completed"
    },
    "tags": []
   },
   "outputs": [
    {
     "data": {
      "text/html": [
       "<div>\n",
       "<style scoped>\n",
       "    .dataframe tbody tr th:only-of-type {\n",
       "        vertical-align: middle;\n",
       "    }\n",
       "\n",
       "    .dataframe tbody tr th {\n",
       "        vertical-align: top;\n",
       "    }\n",
       "\n",
       "    .dataframe thead th {\n",
       "        text-align: right;\n",
       "    }\n",
       "</style>\n",
       "<table border=\"1\" class=\"dataframe\">\n",
       "  <thead>\n",
       "    <tr style=\"text-align: right;\">\n",
       "      <th></th>\n",
       "      <th>gender</th>\n",
       "      <th>age</th>\n",
       "      <th>hypertension</th>\n",
       "      <th>heart_disease</th>\n",
       "      <th>smoking_history</th>\n",
       "      <th>bmi</th>\n",
       "      <th>HbA1c_level</th>\n",
       "      <th>blood_glucose_level</th>\n",
       "      <th>diabetes</th>\n",
       "    </tr>\n",
       "  </thead>\n",
       "  <tbody>\n",
       "    <tr>\n",
       "      <th>0</th>\n",
       "      <td>0</td>\n",
       "      <td>80.0</td>\n",
       "      <td>0</td>\n",
       "      <td>1</td>\n",
       "      <td>never</td>\n",
       "      <td>25.19</td>\n",
       "      <td>6.6</td>\n",
       "      <td>140</td>\n",
       "      <td>0</td>\n",
       "    </tr>\n",
       "    <tr>\n",
       "      <th>1</th>\n",
       "      <td>0</td>\n",
       "      <td>54.0</td>\n",
       "      <td>0</td>\n",
       "      <td>0</td>\n",
       "      <td>No Info</td>\n",
       "      <td>27.32</td>\n",
       "      <td>6.6</td>\n",
       "      <td>80</td>\n",
       "      <td>0</td>\n",
       "    </tr>\n",
       "    <tr>\n",
       "      <th>2</th>\n",
       "      <td>1</td>\n",
       "      <td>28.0</td>\n",
       "      <td>0</td>\n",
       "      <td>0</td>\n",
       "      <td>never</td>\n",
       "      <td>27.32</td>\n",
       "      <td>5.7</td>\n",
       "      <td>158</td>\n",
       "      <td>0</td>\n",
       "    </tr>\n",
       "    <tr>\n",
       "      <th>3</th>\n",
       "      <td>0</td>\n",
       "      <td>36.0</td>\n",
       "      <td>0</td>\n",
       "      <td>0</td>\n",
       "      <td>current</td>\n",
       "      <td>23.45</td>\n",
       "      <td>5.0</td>\n",
       "      <td>155</td>\n",
       "      <td>0</td>\n",
       "    </tr>\n",
       "    <tr>\n",
       "      <th>4</th>\n",
       "      <td>1</td>\n",
       "      <td>76.0</td>\n",
       "      <td>1</td>\n",
       "      <td>1</td>\n",
       "      <td>current</td>\n",
       "      <td>20.14</td>\n",
       "      <td>4.8</td>\n",
       "      <td>155</td>\n",
       "      <td>0</td>\n",
       "    </tr>\n",
       "    <tr>\n",
       "      <th>...</th>\n",
       "      <td>...</td>\n",
       "      <td>...</td>\n",
       "      <td>...</td>\n",
       "      <td>...</td>\n",
       "      <td>...</td>\n",
       "      <td>...</td>\n",
       "      <td>...</td>\n",
       "      <td>...</td>\n",
       "      <td>...</td>\n",
       "    </tr>\n",
       "    <tr>\n",
       "      <th>99994</th>\n",
       "      <td>0</td>\n",
       "      <td>36.0</td>\n",
       "      <td>0</td>\n",
       "      <td>0</td>\n",
       "      <td>No Info</td>\n",
       "      <td>24.60</td>\n",
       "      <td>4.8</td>\n",
       "      <td>145</td>\n",
       "      <td>0</td>\n",
       "    </tr>\n",
       "    <tr>\n",
       "      <th>99996</th>\n",
       "      <td>0</td>\n",
       "      <td>2.0</td>\n",
       "      <td>0</td>\n",
       "      <td>0</td>\n",
       "      <td>No Info</td>\n",
       "      <td>17.37</td>\n",
       "      <td>6.5</td>\n",
       "      <td>100</td>\n",
       "      <td>0</td>\n",
       "    </tr>\n",
       "    <tr>\n",
       "      <th>99997</th>\n",
       "      <td>1</td>\n",
       "      <td>66.0</td>\n",
       "      <td>0</td>\n",
       "      <td>0</td>\n",
       "      <td>former</td>\n",
       "      <td>27.83</td>\n",
       "      <td>5.7</td>\n",
       "      <td>155</td>\n",
       "      <td>0</td>\n",
       "    </tr>\n",
       "    <tr>\n",
       "      <th>99998</th>\n",
       "      <td>0</td>\n",
       "      <td>24.0</td>\n",
       "      <td>0</td>\n",
       "      <td>0</td>\n",
       "      <td>never</td>\n",
       "      <td>35.42</td>\n",
       "      <td>4.0</td>\n",
       "      <td>100</td>\n",
       "      <td>0</td>\n",
       "    </tr>\n",
       "    <tr>\n",
       "      <th>99999</th>\n",
       "      <td>0</td>\n",
       "      <td>57.0</td>\n",
       "      <td>0</td>\n",
       "      <td>0</td>\n",
       "      <td>current</td>\n",
       "      <td>22.43</td>\n",
       "      <td>6.6</td>\n",
       "      <td>90</td>\n",
       "      <td>0</td>\n",
       "    </tr>\n",
       "  </tbody>\n",
       "</table>\n",
       "<p>96146 rows × 9 columns</p>\n",
       "</div>"
      ],
      "text/plain": [
       "       gender   age  hypertension  heart_disease smoking_history    bmi  \\\n",
       "0           0  80.0             0              1           never  25.19   \n",
       "1           0  54.0             0              0         No Info  27.32   \n",
       "2           1  28.0             0              0           never  27.32   \n",
       "3           0  36.0             0              0         current  23.45   \n",
       "4           1  76.0             1              1         current  20.14   \n",
       "...       ...   ...           ...            ...             ...    ...   \n",
       "99994       0  36.0             0              0         No Info  24.60   \n",
       "99996       0   2.0             0              0         No Info  17.37   \n",
       "99997       1  66.0             0              0          former  27.83   \n",
       "99998       0  24.0             0              0           never  35.42   \n",
       "99999       0  57.0             0              0         current  22.43   \n",
       "\n",
       "       HbA1c_level  blood_glucose_level  diabetes  \n",
       "0              6.6                  140         0  \n",
       "1              6.6                   80         0  \n",
       "2              5.7                  158         0  \n",
       "3              5.0                  155         0  \n",
       "4              4.8                  155         0  \n",
       "...            ...                  ...       ...  \n",
       "99994          4.8                  145         0  \n",
       "99996          6.5                  100         0  \n",
       "99997          5.7                  155         0  \n",
       "99998          4.0                  100         0  \n",
       "99999          6.6                   90         0  \n",
       "\n",
       "[96146 rows x 9 columns]"
      ]
     },
     "execution_count": 61,
     "metadata": {},
     "output_type": "execute_result"
    }
   ],
   "source": [
    "## Do Label Encoding for gender column\n",
    "from sklearn import preprocessing\n",
    "label_encoder = preprocessing.LabelEncoder()\n",
    "data['gender'] = label_encoder.fit_transform(data['gender'])\n",
    "data"
   ]
  },
  {
   "cell_type": "markdown",
   "id": "8898c8cc",
   "metadata": {
    "papermill": {
     "duration": 0.027408,
     "end_time": "2023-05-17T14:11:53.524009",
     "exception": false,
     "start_time": "2023-05-17T14:11:53.496601",
     "status": "completed"
    },
    "tags": []
   },
   "source": [
    "## Now, do analysis for smoking_history"
   ]
  },
  {
   "cell_type": "code",
   "execution_count": 62,
   "id": "794bd97f",
   "metadata": {
    "execution": {
     "iopub.execute_input": "2023-05-17T14:11:53.581740Z",
     "iopub.status.busy": "2023-05-17T14:11:53.581311Z",
     "iopub.status.idle": "2023-05-17T14:11:53.606781Z",
     "shell.execute_reply": "2023-05-17T14:11:53.605136Z"
    },
    "papermill": {
     "duration": 0.058348,
     "end_time": "2023-05-17T14:11:53.610097",
     "exception": false,
     "start_time": "2023-05-17T14:11:53.551749",
     "status": "completed"
    },
    "tags": []
   },
   "outputs": [
    {
     "data": {
      "text/plain": [
       "never          34398\n",
       "No Info        32887\n",
       "former          9299\n",
       "current         9197\n",
       "not current     6367\n",
       "ever            3998\n",
       "Name: smoking_history, dtype: int64"
      ]
     },
     "execution_count": 62,
     "metadata": {},
     "output_type": "execute_result"
    }
   ],
   "source": [
    "data['smoking_history'].value_counts()"
   ]
  },
  {
   "cell_type": "code",
   "execution_count": 63,
   "id": "ee485d79",
   "metadata": {
    "execution": {
     "iopub.execute_input": "2023-05-17T14:11:53.669988Z",
     "iopub.status.busy": "2023-05-17T14:11:53.669567Z",
     "iopub.status.idle": "2023-05-17T14:11:53.691863Z",
     "shell.execute_reply": "2023-05-17T14:11:53.690802Z"
    },
    "papermill": {
     "duration": 0.056629,
     "end_time": "2023-05-17T14:11:53.695336",
     "exception": false,
     "start_time": "2023-05-17T14:11:53.638707",
     "status": "completed"
    },
    "tags": []
   },
   "outputs": [],
   "source": [
    "# Convert smoking history to numerical format\n",
    "smoking_history_mapping = {'never': 0, 'No Info': -1, 'current': 2, 'former': 1, 'ever': 2, 'not current': 0}\n",
    "data['smoking_history'] = data['smoking_history'].map(smoking_history_mapping)"
   ]
  },
  {
   "cell_type": "code",
   "execution_count": 64,
   "id": "f213b29c",
   "metadata": {
    "execution": {
     "iopub.execute_input": "2023-05-17T14:11:53.756271Z",
     "iopub.status.busy": "2023-05-17T14:11:53.755871Z",
     "iopub.status.idle": "2023-05-17T14:11:53.840294Z",
     "shell.execute_reply": "2023-05-17T14:11:53.838675Z"
    },
    "papermill": {
     "duration": 0.118491,
     "end_time": "2023-05-17T14:11:53.843342",
     "exception": false,
     "start_time": "2023-05-17T14:11:53.724851",
     "status": "completed"
    },
    "tags": []
   },
   "outputs": [
    {
     "data": {
      "text/html": [
       "<div>\n",
       "<style scoped>\n",
       "    .dataframe tbody tr th:only-of-type {\n",
       "        vertical-align: middle;\n",
       "    }\n",
       "\n",
       "    .dataframe tbody tr th {\n",
       "        vertical-align: top;\n",
       "    }\n",
       "\n",
       "    .dataframe thead th {\n",
       "        text-align: right;\n",
       "    }\n",
       "</style>\n",
       "<table border=\"1\" class=\"dataframe\">\n",
       "  <thead>\n",
       "    <tr style=\"text-align: right;\">\n",
       "      <th></th>\n",
       "      <th>gender</th>\n",
       "      <th>age</th>\n",
       "      <th>hypertension</th>\n",
       "      <th>heart_disease</th>\n",
       "      <th>smoking_history</th>\n",
       "      <th>bmi</th>\n",
       "      <th>HbA1c_level</th>\n",
       "      <th>blood_glucose_level</th>\n",
       "      <th>diabetes</th>\n",
       "    </tr>\n",
       "  </thead>\n",
       "  <tbody>\n",
       "    <tr>\n",
       "      <th>count</th>\n",
       "      <td>96146.000000</td>\n",
       "      <td>96146.000000</td>\n",
       "      <td>96146.000000</td>\n",
       "      <td>96146.000000</td>\n",
       "      <td>96146.000000</td>\n",
       "      <td>96146.000000</td>\n",
       "      <td>96146.000000</td>\n",
       "      <td>96146.000000</td>\n",
       "      <td>96146.000000</td>\n",
       "    </tr>\n",
       "    <tr>\n",
       "      <th>mean</th>\n",
       "      <td>0.416065</td>\n",
       "      <td>41.794326</td>\n",
       "      <td>0.077601</td>\n",
       "      <td>0.040803</td>\n",
       "      <td>0.029143</td>\n",
       "      <td>27.321461</td>\n",
       "      <td>5.532609</td>\n",
       "      <td>138.218231</td>\n",
       "      <td>0.088220</td>\n",
       "    </tr>\n",
       "    <tr>\n",
       "      <th>std</th>\n",
       "      <td>0.493287</td>\n",
       "      <td>22.462948</td>\n",
       "      <td>0.267544</td>\n",
       "      <td>0.197833</td>\n",
       "      <td>0.993422</td>\n",
       "      <td>6.767716</td>\n",
       "      <td>1.073232</td>\n",
       "      <td>40.909771</td>\n",
       "      <td>0.283616</td>\n",
       "    </tr>\n",
       "    <tr>\n",
       "      <th>min</th>\n",
       "      <td>0.000000</td>\n",
       "      <td>0.080000</td>\n",
       "      <td>0.000000</td>\n",
       "      <td>0.000000</td>\n",
       "      <td>-1.000000</td>\n",
       "      <td>10.010000</td>\n",
       "      <td>3.500000</td>\n",
       "      <td>80.000000</td>\n",
       "      <td>0.000000</td>\n",
       "    </tr>\n",
       "    <tr>\n",
       "      <th>25%</th>\n",
       "      <td>0.000000</td>\n",
       "      <td>24.000000</td>\n",
       "      <td>0.000000</td>\n",
       "      <td>0.000000</td>\n",
       "      <td>-1.000000</td>\n",
       "      <td>23.400000</td>\n",
       "      <td>4.800000</td>\n",
       "      <td>100.000000</td>\n",
       "      <td>0.000000</td>\n",
       "    </tr>\n",
       "    <tr>\n",
       "      <th>50%</th>\n",
       "      <td>0.000000</td>\n",
       "      <td>43.000000</td>\n",
       "      <td>0.000000</td>\n",
       "      <td>0.000000</td>\n",
       "      <td>0.000000</td>\n",
       "      <td>27.320000</td>\n",
       "      <td>5.800000</td>\n",
       "      <td>140.000000</td>\n",
       "      <td>0.000000</td>\n",
       "    </tr>\n",
       "    <tr>\n",
       "      <th>75%</th>\n",
       "      <td>1.000000</td>\n",
       "      <td>59.000000</td>\n",
       "      <td>0.000000</td>\n",
       "      <td>0.000000</td>\n",
       "      <td>0.000000</td>\n",
       "      <td>29.860000</td>\n",
       "      <td>6.200000</td>\n",
       "      <td>159.000000</td>\n",
       "      <td>0.000000</td>\n",
       "    </tr>\n",
       "    <tr>\n",
       "      <th>max</th>\n",
       "      <td>2.000000</td>\n",
       "      <td>80.000000</td>\n",
       "      <td>1.000000</td>\n",
       "      <td>1.000000</td>\n",
       "      <td>2.000000</td>\n",
       "      <td>95.690000</td>\n",
       "      <td>9.000000</td>\n",
       "      <td>300.000000</td>\n",
       "      <td>1.000000</td>\n",
       "    </tr>\n",
       "  </tbody>\n",
       "</table>\n",
       "</div>"
      ],
      "text/plain": [
       "             gender           age  hypertension  heart_disease  \\\n",
       "count  96146.000000  96146.000000  96146.000000   96146.000000   \n",
       "mean       0.416065     41.794326      0.077601       0.040803   \n",
       "std        0.493287     22.462948      0.267544       0.197833   \n",
       "min        0.000000      0.080000      0.000000       0.000000   \n",
       "25%        0.000000     24.000000      0.000000       0.000000   \n",
       "50%        0.000000     43.000000      0.000000       0.000000   \n",
       "75%        1.000000     59.000000      0.000000       0.000000   \n",
       "max        2.000000     80.000000      1.000000       1.000000   \n",
       "\n",
       "       smoking_history           bmi   HbA1c_level  blood_glucose_level  \\\n",
       "count     96146.000000  96146.000000  96146.000000         96146.000000   \n",
       "mean          0.029143     27.321461      5.532609           138.218231   \n",
       "std           0.993422      6.767716      1.073232            40.909771   \n",
       "min          -1.000000     10.010000      3.500000            80.000000   \n",
       "25%          -1.000000     23.400000      4.800000           100.000000   \n",
       "50%           0.000000     27.320000      5.800000           140.000000   \n",
       "75%           0.000000     29.860000      6.200000           159.000000   \n",
       "max           2.000000     95.690000      9.000000           300.000000   \n",
       "\n",
       "           diabetes  \n",
       "count  96146.000000  \n",
       "mean       0.088220  \n",
       "std        0.283616  \n",
       "min        0.000000  \n",
       "25%        0.000000  \n",
       "50%        0.000000  \n",
       "75%        0.000000  \n",
       "max        1.000000  "
      ]
     },
     "execution_count": 64,
     "metadata": {},
     "output_type": "execute_result"
    }
   ],
   "source": [
    "data.describe()"
   ]
  },
  {
   "cell_type": "markdown",
   "id": "31f12302",
   "metadata": {
    "papermill": {
     "duration": 0.028654,
     "end_time": "2023-05-17T14:11:53.901014",
     "exception": false,
     "start_time": "2023-05-17T14:11:53.872360",
     "status": "completed"
    },
    "tags": []
   },
   "source": [
    "## Do analysis for age column"
   ]
  },
  {
   "cell_type": "markdown",
   "id": "3005ba8b",
   "metadata": {
    "papermill": {
     "duration": 0.029056,
     "end_time": "2023-05-17T14:11:53.958486",
     "exception": false,
     "start_time": "2023-05-17T14:11:53.929430",
     "status": "completed"
    },
    "tags": []
   },
   "source": [
    "because, above cell shows min value for age is 0.08, that is not possible"
   ]
  },
  {
   "cell_type": "code",
   "execution_count": 65,
   "id": "f03ab3f5",
   "metadata": {
    "execution": {
     "iopub.execute_input": "2023-05-17T14:11:54.017971Z",
     "iopub.status.busy": "2023-05-17T14:11:54.017501Z",
     "iopub.status.idle": "2023-05-17T14:11:54.383626Z",
     "shell.execute_reply": "2023-05-17T14:11:54.382036Z"
    },
    "papermill": {
     "duration": 0.399741,
     "end_time": "2023-05-17T14:11:54.386918",
     "exception": false,
     "start_time": "2023-05-17T14:11:53.987177",
     "status": "completed"
    },
    "tags": []
   },
   "outputs": [
    {
     "data": {
      "text/plain": [
       "<AxesSubplot:>"
      ]
     },
     "execution_count": 65,
     "metadata": {},
     "output_type": "execute_result"
    },
    {
     "data": {
      "image/png": "[encoded data removed]",
      "text/plain": [
       "<Figure size 432x288 with 1 Axes>"
      ]
     },
     "metadata": {
      "needs_background": "light"
     },
     "output_type": "display_data"
    }
   ],
   "source": [
    "data['age'].hist()"
   ]
  },
  {
   "cell_type": "markdown",
   "id": "603d30e5",
   "metadata": {
    "papermill": {
     "duration": 0.028548,
     "end_time": "2023-05-17T14:11:54.446918",
     "exception": false,
     "start_time": "2023-05-17T14:11:54.418370",
     "status": "completed"
    },
    "tags": []
   },
   "source": [
    "## Task: Remove all records where age is given in decimal"
   ]
  },
  {
   "cell_type": "code",
   "execution_count": 66,
   "id": "be928642",
   "metadata": {
    "execution": {
     "iopub.execute_input": "2023-05-17T14:11:54.506694Z",
     "iopub.status.busy": "2023-05-17T14:11:54.506255Z",
     "iopub.status.idle": "2023-05-17T14:11:54.538478Z",
     "shell.execute_reply": "2023-05-17T14:11:54.537342Z"
    },
    "papermill": {
     "duration": 0.065586,
     "end_time": "2023-05-17T14:11:54.541331",
     "exception": false,
     "start_time": "2023-05-17T14:11:54.475745",
     "status": "completed"
    },
    "tags": []
   },
   "outputs": [
    {
     "data": {
      "text/html": [
       "<div>\n",
       "<style scoped>\n",
       "    .dataframe tbody tr th:only-of-type {\n",
       "        vertical-align: middle;\n",
       "    }\n",
       "\n",
       "    .dataframe tbody tr th {\n",
       "        vertical-align: top;\n",
       "    }\n",
       "\n",
       "    .dataframe thead th {\n",
       "        text-align: right;\n",
       "    }\n",
       "</style>\n",
       "<table border=\"1\" class=\"dataframe\">\n",
       "  <thead>\n",
       "    <tr style=\"text-align: right;\">\n",
       "      <th></th>\n",
       "      <th>gender</th>\n",
       "      <th>age</th>\n",
       "      <th>hypertension</th>\n",
       "      <th>heart_disease</th>\n",
       "      <th>smoking_history</th>\n",
       "      <th>bmi</th>\n",
       "      <th>HbA1c_level</th>\n",
       "      <th>blood_glucose_level</th>\n",
       "      <th>diabetes</th>\n",
       "    </tr>\n",
       "  </thead>\n",
       "  <tbody>\n",
       "    <tr>\n",
       "      <th>0</th>\n",
       "      <td>0</td>\n",
       "      <td>80.0</td>\n",
       "      <td>0</td>\n",
       "      <td>1</td>\n",
       "      <td>0</td>\n",
       "      <td>25.19</td>\n",
       "      <td>6.6</td>\n",
       "      <td>140</td>\n",
       "      <td>0</td>\n",
       "    </tr>\n",
       "    <tr>\n",
       "      <th>1</th>\n",
       "      <td>0</td>\n",
       "      <td>54.0</td>\n",
       "      <td>0</td>\n",
       "      <td>0</td>\n",
       "      <td>-1</td>\n",
       "      <td>27.32</td>\n",
       "      <td>6.6</td>\n",
       "      <td>80</td>\n",
       "      <td>0</td>\n",
       "    </tr>\n",
       "    <tr>\n",
       "      <th>2</th>\n",
       "      <td>1</td>\n",
       "      <td>28.0</td>\n",
       "      <td>0</td>\n",
       "      <td>0</td>\n",
       "      <td>0</td>\n",
       "      <td>27.32</td>\n",
       "      <td>5.7</td>\n",
       "      <td>158</td>\n",
       "      <td>0</td>\n",
       "    </tr>\n",
       "    <tr>\n",
       "      <th>3</th>\n",
       "      <td>0</td>\n",
       "      <td>36.0</td>\n",
       "      <td>0</td>\n",
       "      <td>0</td>\n",
       "      <td>2</td>\n",
       "      <td>23.45</td>\n",
       "      <td>5.0</td>\n",
       "      <td>155</td>\n",
       "      <td>0</td>\n",
       "    </tr>\n",
       "    <tr>\n",
       "      <th>4</th>\n",
       "      <td>1</td>\n",
       "      <td>76.0</td>\n",
       "      <td>1</td>\n",
       "      <td>1</td>\n",
       "      <td>2</td>\n",
       "      <td>20.14</td>\n",
       "      <td>4.8</td>\n",
       "      <td>155</td>\n",
       "      <td>0</td>\n",
       "    </tr>\n",
       "    <tr>\n",
       "      <th>...</th>\n",
       "      <td>...</td>\n",
       "      <td>...</td>\n",
       "      <td>...</td>\n",
       "      <td>...</td>\n",
       "      <td>...</td>\n",
       "      <td>...</td>\n",
       "      <td>...</td>\n",
       "      <td>...</td>\n",
       "      <td>...</td>\n",
       "    </tr>\n",
       "    <tr>\n",
       "      <th>99994</th>\n",
       "      <td>0</td>\n",
       "      <td>36.0</td>\n",
       "      <td>0</td>\n",
       "      <td>0</td>\n",
       "      <td>-1</td>\n",
       "      <td>24.60</td>\n",
       "      <td>4.8</td>\n",
       "      <td>145</td>\n",
       "      <td>0</td>\n",
       "    </tr>\n",
       "    <tr>\n",
       "      <th>99996</th>\n",
       "      <td>0</td>\n",
       "      <td>2.0</td>\n",
       "      <td>0</td>\n",
       "      <td>0</td>\n",
       "      <td>-1</td>\n",
       "      <td>17.37</td>\n",
       "      <td>6.5</td>\n",
       "      <td>100</td>\n",
       "      <td>0</td>\n",
       "    </tr>\n",
       "    <tr>\n",
       "      <th>99997</th>\n",
       "      <td>1</td>\n",
       "      <td>66.0</td>\n",
       "      <td>0</td>\n",
       "      <td>0</td>\n",
       "      <td>1</td>\n",
       "      <td>27.83</td>\n",
       "      <td>5.7</td>\n",
       "      <td>155</td>\n",
       "      <td>0</td>\n",
       "    </tr>\n",
       "    <tr>\n",
       "      <th>99998</th>\n",
       "      <td>0</td>\n",
       "      <td>24.0</td>\n",
       "      <td>0</td>\n",
       "      <td>0</td>\n",
       "      <td>0</td>\n",
       "      <td>35.42</td>\n",
       "      <td>4.0</td>\n",
       "      <td>100</td>\n",
       "      <td>0</td>\n",
       "    </tr>\n",
       "    <tr>\n",
       "      <th>99999</th>\n",
       "      <td>0</td>\n",
       "      <td>57.0</td>\n",
       "      <td>0</td>\n",
       "      <td>0</td>\n",
       "      <td>2</td>\n",
       "      <td>22.43</td>\n",
       "      <td>6.6</td>\n",
       "      <td>90</td>\n",
       "      <td>0</td>\n",
       "    </tr>\n",
       "  </tbody>\n",
       "</table>\n",
       "<p>94133 rows × 9 columns</p>\n",
       "</div>"
      ],
      "text/plain": [
       "       gender   age  hypertension  heart_disease  smoking_history    bmi  \\\n",
       "0           0  80.0             0              1                0  25.19   \n",
       "1           0  54.0             0              0               -1  27.32   \n",
       "2           1  28.0             0              0                0  27.32   \n",
       "3           0  36.0             0              0                2  23.45   \n",
       "4           1  76.0             1              1                2  20.14   \n",
       "...       ...   ...           ...            ...              ...    ...   \n",
       "99994       0  36.0             0              0               -1  24.60   \n",
       "99996       0   2.0             0              0               -1  17.37   \n",
       "99997       1  66.0             0              0                1  27.83   \n",
       "99998       0  24.0             0              0                0  35.42   \n",
       "99999       0  57.0             0              0                2  22.43   \n",
       "\n",
       "       HbA1c_level  blood_glucose_level  diabetes  \n",
       "0              6.6                  140         0  \n",
       "1              6.6                   80         0  \n",
       "2              5.7                  158         0  \n",
       "3              5.0                  155         0  \n",
       "4              4.8                  155         0  \n",
       "...            ...                  ...       ...  \n",
       "99994          4.8                  145         0  \n",
       "99996          6.5                  100         0  \n",
       "99997          5.7                  155         0  \n",
       "99998          4.0                  100         0  \n",
       "99999          6.6                   90         0  \n",
       "\n",
       "[94133 rows x 9 columns]"
      ]
     },
     "execution_count": 66,
     "metadata": {},
     "output_type": "execute_result"
    }
   ],
   "source": [
    "data = data[data['age'].mod(1) == 0]\n",
    "data"
   ]
  },
  {
   "cell_type": "code",
   "execution_count": 67,
   "id": "f1b1b5a4",
   "metadata": {
    "execution": {
     "iopub.execute_input": "2023-05-17T14:11:54.603374Z",
     "iopub.status.busy": "2023-05-17T14:11:54.602547Z",
     "iopub.status.idle": "2023-05-17T14:11:54.624948Z",
     "shell.execute_reply": "2023-05-17T14:11:54.623335Z"
    },
    "papermill": {
     "duration": 0.056862,
     "end_time": "2023-05-17T14:11:54.627843",
     "exception": false,
     "start_time": "2023-05-17T14:11:54.570981",
     "status": "completed"
    },
    "tags": []
   },
   "outputs": [
    {
     "name": "stderr",
     "output_type": "stream",
     "text": [
      "c:\\Python37\\lib\\site-packages\\pandas\\core\\frame.py:3607: SettingWithCopyWarning: \n",
      "A value is trying to be set on a copy of a slice from a DataFrame.\n",
      "Try using .loc[row_indexer,col_indexer] = value instead\n",
      "\n",
      "See the caveats in the documentation: https://pandas.pydata.org/pandas-docs/stable/user_guide/indexing.html#returning-a-view-versus-a-copy\n",
      "  self._set_item(key, value)\n"
     ]
    },
    {
     "data": {
      "text/html": [
       "<div>\n",
       "<style scoped>\n",
       "    .dataframe tbody tr th:only-of-type {\n",
       "        vertical-align: middle;\n",
       "    }\n",
       "\n",
       "    .dataframe tbody tr th {\n",
       "        vertical-align: top;\n",
       "    }\n",
       "\n",
       "    .dataframe thead th {\n",
       "        text-align: right;\n",
       "    }\n",
       "</style>\n",
       "<table border=\"1\" class=\"dataframe\">\n",
       "  <thead>\n",
       "    <tr style=\"text-align: right;\">\n",
       "      <th></th>\n",
       "      <th>gender</th>\n",
       "      <th>age</th>\n",
       "      <th>hypertension</th>\n",
       "      <th>heart_disease</th>\n",
       "      <th>smoking_history</th>\n",
       "      <th>bmi</th>\n",
       "      <th>HbA1c_level</th>\n",
       "      <th>blood_glucose_level</th>\n",
       "      <th>diabetes</th>\n",
       "    </tr>\n",
       "  </thead>\n",
       "  <tbody>\n",
       "    <tr>\n",
       "      <th>0</th>\n",
       "      <td>0</td>\n",
       "      <td>80</td>\n",
       "      <td>0</td>\n",
       "      <td>1</td>\n",
       "      <td>0</td>\n",
       "      <td>25.19</td>\n",
       "      <td>6.6</td>\n",
       "      <td>140</td>\n",
       "      <td>0</td>\n",
       "    </tr>\n",
       "    <tr>\n",
       "      <th>1</th>\n",
       "      <td>0</td>\n",
       "      <td>54</td>\n",
       "      <td>0</td>\n",
       "      <td>0</td>\n",
       "      <td>-1</td>\n",
       "      <td>27.32</td>\n",
       "      <td>6.6</td>\n",
       "      <td>80</td>\n",
       "      <td>0</td>\n",
       "    </tr>\n",
       "    <tr>\n",
       "      <th>2</th>\n",
       "      <td>1</td>\n",
       "      <td>28</td>\n",
       "      <td>0</td>\n",
       "      <td>0</td>\n",
       "      <td>0</td>\n",
       "      <td>27.32</td>\n",
       "      <td>5.7</td>\n",
       "      <td>158</td>\n",
       "      <td>0</td>\n",
       "    </tr>\n",
       "    <tr>\n",
       "      <th>3</th>\n",
       "      <td>0</td>\n",
       "      <td>36</td>\n",
       "      <td>0</td>\n",
       "      <td>0</td>\n",
       "      <td>2</td>\n",
       "      <td>23.45</td>\n",
       "      <td>5.0</td>\n",
       "      <td>155</td>\n",
       "      <td>0</td>\n",
       "    </tr>\n",
       "    <tr>\n",
       "      <th>4</th>\n",
       "      <td>1</td>\n",
       "      <td>76</td>\n",
       "      <td>1</td>\n",
       "      <td>1</td>\n",
       "      <td>2</td>\n",
       "      <td>20.14</td>\n",
       "      <td>4.8</td>\n",
       "      <td>155</td>\n",
       "      <td>0</td>\n",
       "    </tr>\n",
       "  </tbody>\n",
       "</table>\n",
       "</div>"
      ],
      "text/plain": [
       "   gender  age  hypertension  heart_disease  smoking_history    bmi  \\\n",
       "0       0   80             0              1                0  25.19   \n",
       "1       0   54             0              0               -1  27.32   \n",
       "2       1   28             0              0                0  27.32   \n",
       "3       0   36             0              0                2  23.45   \n",
       "4       1   76             1              1                2  20.14   \n",
       "\n",
       "   HbA1c_level  blood_glucose_level  diabetes  \n",
       "0          6.6                  140         0  \n",
       "1          6.6                   80         0  \n",
       "2          5.7                  158         0  \n",
       "3          5.0                  155         0  \n",
       "4          4.8                  155         0  "
      ]
     },
     "execution_count": 67,
     "metadata": {},
     "output_type": "execute_result"
    }
   ],
   "source": [
    "## convert age column datatype to int\n",
    "data['age'] = data['age'].astype(int)\n",
    "data.head()"
   ]
  },
  {
   "cell_type": "code",
   "execution_count": 68,
   "id": "277483a4",
   "metadata": {
    "execution": {
     "iopub.execute_input": "2023-05-17T14:11:54.691873Z",
     "iopub.status.busy": "2023-05-17T14:11:54.691319Z",
     "iopub.status.idle": "2023-05-17T14:11:54.715425Z",
     "shell.execute_reply": "2023-05-17T14:11:54.713909Z"
    },
    "papermill": {
     "duration": 0.060005,
     "end_time": "2023-05-17T14:11:54.718168",
     "exception": false,
     "start_time": "2023-05-17T14:11:54.658163",
     "status": "completed"
    },
    "tags": []
   },
   "outputs": [
    {
     "name": "stdout",
     "output_type": "stream",
     "text": [
      "<class 'pandas.core.frame.DataFrame'>\n",
      "Int64Index: 94133 entries, 0 to 99999\n",
      "Data columns (total 9 columns):\n",
      " #   Column               Non-Null Count  Dtype  \n",
      "---  ------               --------------  -----  \n",
      " 0   gender               94133 non-null  int32  \n",
      " 1   age                  94133 non-null  int32  \n",
      " 2   hypertension         94133 non-null  int64  \n",
      " 3   heart_disease        94133 non-null  int64  \n",
      " 4   smoking_history      94133 non-null  int64  \n",
      " 5   bmi                  94133 non-null  float64\n",
      " 6   HbA1c_level          94133 non-null  float64\n",
      " 7   blood_glucose_level  94133 non-null  int64  \n",
      " 8   diabetes             94133 non-null  int64  \n",
      "dtypes: float64(2), int32(2), int64(5)\n",
      "memory usage: 6.5 MB\n"
     ]
    }
   ],
   "source": [
    "data.info()"
   ]
  },
  {
   "cell_type": "code",
   "execution_count": 69,
   "id": "a86965a0",
   "metadata": {
    "execution": {
     "iopub.execute_input": "2023-05-17T14:11:54.782227Z",
     "iopub.status.busy": "2023-05-17T14:11:54.781751Z",
     "iopub.status.idle": "2023-05-17T14:11:56.099384Z",
     "shell.execute_reply": "2023-05-17T14:11:56.098038Z"
    },
    "papermill": {
     "duration": 1.353731,
     "end_time": "2023-05-17T14:11:56.102948",
     "exception": false,
     "start_time": "2023-05-17T14:11:54.749217",
     "status": "completed"
    },
    "tags": []
   },
   "outputs": [
    {
     "data": {
      "image/png": "[encoded data removed]",
      "text/plain": [
       "<Figure size 720x576 with 9 Axes>"
      ]
     },
     "metadata": {
      "needs_background": "light"
     },
     "output_type": "display_data"
    }
   ],
   "source": [
    "data.hist(bins=10, figsize=(10,8))\n",
    "plt.show()"
   ]
  },
  {
   "cell_type": "markdown",
   "id": "4f26d1fc",
   "metadata": {
    "papermill": {
     "duration": 0.032658,
     "end_time": "2023-05-17T14:11:56.168040",
     "exception": false,
     "start_time": "2023-05-17T14:11:56.135382",
     "status": "completed"
    },
    "tags": []
   },
   "source": [
    "## Analysis for diabetes column"
   ]
  },
  {
   "cell_type": "code",
   "execution_count": 70,
   "id": "9a5a1296",
   "metadata": {
    "execution": {
     "iopub.execute_input": "2023-05-17T14:11:56.233690Z",
     "iopub.status.busy": "2023-05-17T14:11:56.233275Z",
     "iopub.status.idle": "2023-05-17T14:11:56.244281Z",
     "shell.execute_reply": "2023-05-17T14:11:56.242883Z"
    },
    "papermill": {
     "duration": 0.047978,
     "end_time": "2023-05-17T14:11:56.247414",
     "exception": false,
     "start_time": "2023-05-17T14:11:56.199436",
     "status": "completed"
    },
    "tags": []
   },
   "outputs": [
    {
     "data": {
      "text/plain": [
       "0    85651\n",
       "1     8482\n",
       "Name: diabetes, dtype: int64"
      ]
     },
     "execution_count": 70,
     "metadata": {},
     "output_type": "execute_result"
    }
   ],
   "source": [
    "data['diabetes'].value_counts()"
   ]
  },
  {
   "cell_type": "code",
   "execution_count": 71,
   "id": "4c06fd31",
   "metadata": {
    "execution": {
     "iopub.execute_input": "2023-05-17T14:11:56.312662Z",
     "iopub.status.busy": "2023-05-17T14:11:56.312243Z",
     "iopub.status.idle": "2023-05-17T14:11:56.572928Z",
     "shell.execute_reply": "2023-05-17T14:11:56.571145Z"
    },
    "papermill": {
     "duration": 0.296869,
     "end_time": "2023-05-17T14:11:56.575888",
     "exception": false,
     "start_time": "2023-05-17T14:11:56.279019",
     "status": "completed"
    },
    "tags": []
   },
   "outputs": [
    {
     "data": {
      "image/png": "[encoded data removed]",
      "text/plain": [
       "<Figure size 432x288 with 1 Axes>"
      ]
     },
     "metadata": {
      "needs_background": "light"
     },
     "output_type": "display_data"
    },
    {
     "name": "stdout",
     "output_type": "stream",
     "text": [
      "Count_of_0%: 90.9893448631192\n",
      "Count_of_1%: 9.010655136880796\n"
     ]
    }
   ],
   "source": [
    "value_counts = data['diabetes'].value_counts()\n",
    "plt.bar(value_counts.index, value_counts.values)\n",
    "plt.xlabel('Categories')\n",
    "plt.ylabel('Count of each category')\n",
    "plt.title('Diabetes categories counts')\n",
    "plt.show()\n",
    "print('Count_of_0%: {}'.format(100 *(len(data[data['diabetes'] == 0])/len(data))))\n",
    "print('Count_of_1%: {}'.format(100 *(len(data[data['diabetes'] == 1])/len(data))))"
   ]
  },
  {
   "cell_type": "markdown",
   "id": "af53e7a8",
   "metadata": {
    "papermill": {
     "duration": 0.032734,
     "end_time": "2023-05-17T14:11:56.641080",
     "exception": false,
     "start_time": "2023-05-17T14:11:56.608346",
     "status": "completed"
    },
    "tags": []
   },
   "source": [
    "it means, this data is imbalance."
   ]
  },
  {
   "cell_type": "markdown",
   "id": "98d8caff",
   "metadata": {
    "papermill": {
     "duration": 0.032144,
     "end_time": "2023-05-17T14:11:56.705919",
     "exception": false,
     "start_time": "2023-05-17T14:11:56.673775",
     "status": "completed"
    },
    "tags": []
   },
   "source": [
    "#### Now, we should apply SMOTE Technique to balance the dependent variable."
   ]
  },
  {
   "cell_type": "markdown",
   "id": "690b1ce6",
   "metadata": {
    "papermill": {
     "duration": 0.031859,
     "end_time": "2023-05-17T14:11:56.770157",
     "exception": false,
     "start_time": "2023-05-17T14:11:56.738298",
     "status": "completed"
    },
    "tags": []
   },
   "source": [
    "## Before, Applying SMOTE"
   ]
  },
  {
   "cell_type": "markdown",
   "id": "b29e5e3b",
   "metadata": {
    "papermill": {
     "duration": 0.032533,
     "end_time": "2023-05-17T14:11:56.835279",
     "exception": false,
     "start_time": "2023-05-17T14:11:56.802746",
     "status": "completed"
    },
    "tags": []
   },
   "source": [
    "### Spliting the dataset into training and testing"
   ]
  },
  {
   "cell_type": "code",
   "execution_count": 72,
   "id": "9c9adde1",
   "metadata": {
    "execution": {
     "iopub.execute_input": "2023-05-17T14:11:56.903148Z",
     "iopub.status.busy": "2023-05-17T14:11:56.902707Z",
     "iopub.status.idle": "2023-05-17T14:11:56.914093Z",
     "shell.execute_reply": "2023-05-17T14:11:56.912885Z"
    },
    "papermill": {
     "duration": 0.04882,
     "end_time": "2023-05-17T14:11:56.917458",
     "exception": false,
     "start_time": "2023-05-17T14:11:56.868638",
     "status": "completed"
    },
    "tags": []
   },
   "outputs": [],
   "source": [
    "X = data.iloc[:,:-1].values\n",
    "y = data.iloc[:,-1].values"
   ]
  },
  {
   "cell_type": "code",
   "execution_count": 73,
   "id": "0a862e18",
   "metadata": {
    "execution": {
     "iopub.execute_input": "2023-05-17T14:11:56.985932Z",
     "iopub.status.busy": "2023-05-17T14:11:56.985483Z",
     "iopub.status.idle": "2023-05-17T14:11:57.021350Z",
     "shell.execute_reply": "2023-05-17T14:11:57.020053Z"
    },
    "papermill": {
     "duration": 0.074227,
     "end_time": "2023-05-17T14:11:57.024611",
     "exception": false,
     "start_time": "2023-05-17T14:11:56.950384",
     "status": "completed"
    },
    "tags": []
   },
   "outputs": [],
   "source": [
    "from sklearn.model_selection import train_test_split\n",
    "X_train, X_test, y_train, y_test = train_test_split(X, y, train_size=0.8, random_state=42)"
   ]
  },
  {
   "cell_type": "markdown",
   "id": "8aff270a",
   "metadata": {
    "papermill": {
     "duration": 0.032569,
     "end_time": "2023-05-17T14:11:57.090284",
     "exception": false,
     "start_time": "2023-05-17T14:11:57.057715",
     "status": "completed"
    },
    "tags": []
   },
   "source": [
    "### Now, we will do feature scaling"
   ]
  },
  {
   "cell_type": "code",
   "execution_count": 74,
   "id": "d9c8eff6",
   "metadata": {
    "execution": {
     "iopub.execute_input": "2023-05-17T14:11:57.159495Z",
     "iopub.status.busy": "2023-05-17T14:11:57.157936Z",
     "iopub.status.idle": "2023-05-17T14:11:57.184059Z",
     "shell.execute_reply": "2023-05-17T14:11:57.182653Z"
    },
    "papermill": {
     "duration": 0.064219,
     "end_time": "2023-05-17T14:11:57.187415",
     "exception": false,
     "start_time": "2023-05-17T14:11:57.123196",
     "status": "completed"
    },
    "tags": []
   },
   "outputs": [],
   "source": [
    "from sklearn import preprocessing\n",
    "stand = preprocessing.StandardScaler()\n",
    "X_train = stand.fit_transform(X_train)\n",
    "X_test = stand.transform(X_test)"
   ]
  },
  {
   "cell_type": "markdown",
   "id": "3a0f166e",
   "metadata": {
    "papermill": {
     "duration": 0.032734,
     "end_time": "2023-05-17T14:11:57.253117",
     "exception": false,
     "start_time": "2023-05-17T14:11:57.220383",
     "status": "completed"
    },
    "tags": []
   },
   "source": [
    "## Training the model using LogisticRegression"
   ]
  },
  {
   "cell_type": "code",
   "execution_count": 75,
   "id": "25817cd2",
   "metadata": {
    "execution": {
     "iopub.execute_input": "2023-05-17T14:11:57.320839Z",
     "iopub.status.busy": "2023-05-17T14:11:57.320399Z",
     "iopub.status.idle": "2023-05-17T14:11:57.621602Z",
     "shell.execute_reply": "2023-05-17T14:11:57.619829Z"
    },
    "papermill": {
     "duration": 0.341095,
     "end_time": "2023-05-17T14:11:57.627298",
     "exception": false,
     "start_time": "2023-05-17T14:11:57.286203",
     "status": "completed"
    },
    "tags": []
   },
   "outputs": [
    {
     "data": {
      "text/plain": [
       "LogisticRegression()"
      ]
     },
     "execution_count": 75,
     "metadata": {},
     "output_type": "execute_result"
    }
   ],
   "source": [
    "from sklearn.linear_model import LogisticRegression\n",
    "lr = LogisticRegression()\n",
    "lr.fit(X_train, y_train)"
   ]
  },
  {
   "cell_type": "code",
   "execution_count": 76,
   "id": "2f2d8ca3",
   "metadata": {
    "execution": {
     "iopub.execute_input": "2023-05-17T14:11:57.744031Z",
     "iopub.status.busy": "2023-05-17T14:11:57.743605Z",
     "iopub.status.idle": "2023-05-17T14:11:57.753480Z",
     "shell.execute_reply": "2023-05-17T14:11:57.751615Z"
    },
    "papermill": {
     "duration": 0.060681,
     "end_time": "2023-05-17T14:11:57.758317",
     "exception": false,
     "start_time": "2023-05-17T14:11:57.697636",
     "status": "completed"
    },
    "tags": []
   },
   "outputs": [],
   "source": [
    "y_pred_lr = lr.predict(X_test)"
   ]
  },
  {
   "cell_type": "markdown",
   "id": "dbe32833",
   "metadata": {
    "papermill": {
     "duration": 0.054424,
     "end_time": "2023-05-17T14:11:57.882929",
     "exception": false,
     "start_time": "2023-05-17T14:11:57.828505",
     "status": "completed"
    },
    "tags": []
   },
   "source": [
    "## Training the model using KNeighborsClassifier"
   ]
  },
  {
   "cell_type": "code",
   "execution_count": 77,
   "id": "c2683282",
   "metadata": {
    "execution": {
     "iopub.execute_input": "2023-05-17T14:11:57.956983Z",
     "iopub.status.busy": "2023-05-17T14:11:57.956467Z",
     "iopub.status.idle": "2023-05-17T14:11:58.206372Z",
     "shell.execute_reply": "2023-05-17T14:11:58.204723Z"
    },
    "papermill": {
     "duration": 0.289935,
     "end_time": "2023-05-17T14:11:58.209301",
     "exception": false,
     "start_time": "2023-05-17T14:11:57.919366",
     "status": "completed"
    },
    "tags": []
   },
   "outputs": [
    {
     "data": {
      "text/plain": [
       "KNeighborsClassifier()"
      ]
     },
     "execution_count": 77,
     "metadata": {},
     "output_type": "execute_result"
    }
   ],
   "source": [
    "from sklearn.neighbors import KNeighborsClassifier\n",
    "knn = KNeighborsClassifier(n_neighbors = 5)\n",
    "knn.fit(X_train, y_train)"
   ]
  },
  {
   "cell_type": "code",
   "execution_count": 78,
   "id": "ca01725e",
   "metadata": {
    "execution": {
     "iopub.execute_input": "2023-05-17T14:11:58.277429Z",
     "iopub.status.busy": "2023-05-17T14:11:58.276911Z",
     "iopub.status.idle": "2023-05-17T14:12:01.388409Z",
     "shell.execute_reply": "2023-05-17T14:12:01.387035Z"
    },
    "papermill": {
     "duration": 3.149189,
     "end_time": "2023-05-17T14:12:01.391752",
     "exception": false,
     "start_time": "2023-05-17T14:11:58.242563",
     "status": "completed"
    },
    "tags": []
   },
   "outputs": [],
   "source": [
    "y_pred_knn = knn.predict(X_test)"
   ]
  },
  {
   "cell_type": "markdown",
   "id": "e4db7c62",
   "metadata": {
    "papermill": {
     "duration": 0.034067,
     "end_time": "2023-05-17T14:12:01.460335",
     "exception": false,
     "start_time": "2023-05-17T14:12:01.426268",
     "status": "completed"
    },
    "tags": []
   },
   "source": [
    "## Training the model using LinearSVM"
   ]
  },
  {
   "cell_type": "code",
   "execution_count": 79,
   "id": "debe7725",
   "metadata": {
    "execution": {
     "iopub.execute_input": "2023-05-17T14:12:01.538116Z",
     "iopub.status.busy": "2023-05-17T14:12:01.537037Z",
     "iopub.status.idle": "2023-05-17T14:12:45.097818Z",
     "shell.execute_reply": "2023-05-17T14:12:45.096144Z"
    },
    "papermill": {
     "duration": 43.637386,
     "end_time": "2023-05-17T14:12:45.134063",
     "exception": false,
     "start_time": "2023-05-17T14:12:01.496677",
     "status": "completed"
    },
    "tags": []
   },
   "outputs": [
    {
     "name": "stdout",
     "output_type": "stream",
     "text": [
      "Wall time: 26.2 s\n"
     ]
    },
    {
     "data": {
      "text/plain": [
       "SVC(kernel='linear')"
      ]
     },
     "execution_count": 79,
     "metadata": {},
     "output_type": "execute_result"
    }
   ],
   "source": [
    "%%time\n",
    "from sklearn.svm import SVC\n",
    "linear_kernel = SVC(kernel = 'linear')\n",
    "linear_kernel.fit(X_train, y_train)"
   ]
  },
  {
   "cell_type": "code",
   "execution_count": 80,
   "id": "f8ceb8de",
   "metadata": {
    "execution": {
     "iopub.execute_input": "2023-05-17T14:12:45.206733Z",
     "iopub.status.busy": "2023-05-17T14:12:45.206241Z",
     "iopub.status.idle": "2023-05-17T14:12:49.357644Z",
     "shell.execute_reply": "2023-05-17T14:12:49.356259Z"
    },
    "papermill": {
     "duration": 4.192652,
     "end_time": "2023-05-17T14:12:49.361097",
     "exception": false,
     "start_time": "2023-05-17T14:12:45.168445",
     "status": "completed"
    },
    "tags": []
   },
   "outputs": [],
   "source": [
    "y_pred_svm = linear_kernel.predict(X_test)"
   ]
  },
  {
   "cell_type": "markdown",
   "id": "b80ccb6a",
   "metadata": {
    "papermill": {
     "duration": 0.033732,
     "end_time": "2023-05-17T14:12:49.428022",
     "exception": false,
     "start_time": "2023-05-17T14:12:49.394290",
     "status": "completed"
    },
    "tags": []
   },
   "source": [
    "## Training the model using RBF Kernel"
   ]
  },
  {
   "cell_type": "code",
   "execution_count": 81,
   "id": "64fe8d53",
   "metadata": {
    "execution": {
     "iopub.execute_input": "2023-05-17T14:12:49.496370Z",
     "iopub.status.busy": "2023-05-17T14:12:49.495961Z",
     "iopub.status.idle": "2023-05-17T14:13:27.874074Z",
     "shell.execute_reply": "2023-05-17T14:13:27.872713Z"
    },
    "papermill": {
     "duration": 38.452126,
     "end_time": "2023-05-17T14:13:27.913316",
     "exception": false,
     "start_time": "2023-05-17T14:12:49.461190",
     "status": "completed"
    },
    "tags": []
   },
   "outputs": [
    {
     "name": "stdout",
     "output_type": "stream",
     "text": [
      "Wall time: 29.3 s\n"
     ]
    },
    {
     "data": {
      "text/plain": [
       "SVC()"
      ]
     },
     "execution_count": 81,
     "metadata": {},
     "output_type": "execute_result"
    }
   ],
   "source": [
    "%%time\n",
    "from sklearn.svm import SVC\n",
    "ksvm = SVC(kernel = 'rbf')\n",
    "ksvm.fit(X_train, y_train)"
   ]
  },
  {
   "cell_type": "code",
   "execution_count": 82,
   "id": "7940edbc",
   "metadata": {
    "execution": {
     "iopub.execute_input": "2023-05-17T14:13:27.983944Z",
     "iopub.status.busy": "2023-05-17T14:13:27.983507Z",
     "iopub.status.idle": "2023-05-17T14:13:35.391865Z",
     "shell.execute_reply": "2023-05-17T14:13:35.390196Z"
    },
    "papermill": {
     "duration": 7.44827,
     "end_time": "2023-05-17T14:13:35.395427",
     "exception": false,
     "start_time": "2023-05-17T14:13:27.947157",
     "status": "completed"
    },
    "tags": []
   },
   "outputs": [],
   "source": [
    "y_pred_ksvm = ksvm.predict(X_test)"
   ]
  },
  {
   "cell_type": "markdown",
   "id": "15c4e482",
   "metadata": {
    "papermill": {
     "duration": 0.036591,
     "end_time": "2023-05-17T14:13:35.465985",
     "exception": false,
     "start_time": "2023-05-17T14:13:35.429394",
     "status": "completed"
    },
    "tags": []
   },
   "source": [
    "## Training the model using Naive Bayes"
   ]
  },
  {
   "cell_type": "code",
   "execution_count": 83,
   "id": "6e6ced64",
   "metadata": {
    "execution": {
     "iopub.execute_input": "2023-05-17T14:13:35.538281Z",
     "iopub.status.busy": "2023-05-17T14:13:35.537763Z",
     "iopub.status.idle": "2023-05-17T14:13:35.576172Z",
     "shell.execute_reply": "2023-05-17T14:13:35.575142Z"
    },
    "papermill": {
     "duration": 0.076777,
     "end_time": "2023-05-17T14:13:35.579446",
     "exception": false,
     "start_time": "2023-05-17T14:13:35.502669",
     "status": "completed"
    },
    "tags": []
   },
   "outputs": [
    {
     "data": {
      "text/plain": [
       "GaussianNB()"
      ]
     },
     "execution_count": 83,
     "metadata": {},
     "output_type": "execute_result"
    }
   ],
   "source": [
    "from sklearn.naive_bayes import GaussianNB\n",
    "gnb = GaussianNB()\n",
    "gnb.fit(X_train, y_train)"
   ]
  },
  {
   "cell_type": "code",
   "execution_count": 84,
   "id": "3dfd25d0",
   "metadata": {
    "execution": {
     "iopub.execute_input": "2023-05-17T14:13:35.653429Z",
     "iopub.status.busy": "2023-05-17T14:13:35.652664Z",
     "iopub.status.idle": "2023-05-17T14:13:35.663364Z",
     "shell.execute_reply": "2023-05-17T14:13:35.662079Z"
    },
    "papermill": {
     "duration": 0.048853,
     "end_time": "2023-05-17T14:13:35.666220",
     "exception": false,
     "start_time": "2023-05-17T14:13:35.617367",
     "status": "completed"
    },
    "tags": []
   },
   "outputs": [],
   "source": [
    "y_pred_gnb = gnb.predict(X_test)"
   ]
  },
  {
   "cell_type": "markdown",
   "id": "8386d064",
   "metadata": {
    "papermill": {
     "duration": 0.033932,
     "end_time": "2023-05-17T14:13:35.734093",
     "exception": false,
     "start_time": "2023-05-17T14:13:35.700161",
     "status": "completed"
    },
    "tags": []
   },
   "source": [
    "## Training the model using Decision Tree Classifier"
   ]
  },
  {
   "cell_type": "code",
   "execution_count": 85,
   "id": "1dd139a8",
   "metadata": {
    "execution": {
     "iopub.execute_input": "2023-05-17T14:13:35.804159Z",
     "iopub.status.busy": "2023-05-17T14:13:35.803021Z",
     "iopub.status.idle": "2023-05-17T14:13:36.263200Z",
     "shell.execute_reply": "2023-05-17T14:13:36.261846Z"
    },
    "papermill": {
     "duration": 0.498791,
     "end_time": "2023-05-17T14:13:36.266458",
     "exception": false,
     "start_time": "2023-05-17T14:13:35.767667",
     "status": "completed"
    },
    "tags": []
   },
   "outputs": [
    {
     "data": {
      "text/plain": [
       "DecisionTreeClassifier()"
      ]
     },
     "execution_count": 85,
     "metadata": {},
     "output_type": "execute_result"
    }
   ],
   "source": [
    "from sklearn.tree import DecisionTreeClassifier\n",
    "dtc = DecisionTreeClassifier()\n",
    "dtc.fit(X_train, y_train)"
   ]
  },
  {
   "cell_type": "code",
   "execution_count": 86,
   "id": "0fa2e600",
   "metadata": {
    "execution": {
     "iopub.execute_input": "2023-05-17T14:13:36.336696Z",
     "iopub.status.busy": "2023-05-17T14:13:36.336215Z",
     "iopub.status.idle": "2023-05-17T14:13:36.345823Z",
     "shell.execute_reply": "2023-05-17T14:13:36.344377Z"
    },
    "papermill": {
     "duration": 0.048032,
     "end_time": "2023-05-17T14:13:36.348651",
     "exception": false,
     "start_time": "2023-05-17T14:13:36.300619",
     "status": "completed"
    },
    "tags": []
   },
   "outputs": [],
   "source": [
    "y_pred_dtc = dtc.predict(X_test)"
   ]
  },
  {
   "cell_type": "markdown",
   "id": "e0c6126b",
   "metadata": {
    "papermill": {
     "duration": 0.033283,
     "end_time": "2023-05-17T14:13:36.416160",
     "exception": false,
     "start_time": "2023-05-17T14:13:36.382877",
     "status": "completed"
    },
    "tags": []
   },
   "source": [
    "## Training the model using Random Forest Classifier"
   ]
  },
  {
   "cell_type": "code",
   "execution_count": 87,
   "id": "4e95047c",
   "metadata": {
    "execution": {
     "iopub.execute_input": "2023-05-17T14:13:36.487183Z",
     "iopub.status.busy": "2023-05-17T14:13:36.485500Z",
     "iopub.status.idle": "2023-05-17T14:13:37.301417Z",
     "shell.execute_reply": "2023-05-17T14:13:37.299854Z"
    },
    "papermill": {
     "duration": 0.854478,
     "end_time": "2023-05-17T14:13:37.304848",
     "exception": false,
     "start_time": "2023-05-17T14:13:36.450370",
     "status": "completed"
    },
    "tags": []
   },
   "outputs": [
    {
     "data": {
      "text/plain": [
       "RandomForestClassifier(criterion='entropy', n_estimators=10, random_state=0)"
      ]
     },
     "execution_count": 87,
     "metadata": {},
     "output_type": "execute_result"
    }
   ],
   "source": [
    "from sklearn.ensemble import RandomForestClassifier\n",
    "rfc = RandomForestClassifier(n_estimators = 10, criterion = 'entropy', random_state = 0)\n",
    "rfc.fit(X_train, y_train)"
   ]
  },
  {
   "cell_type": "code",
   "execution_count": 88,
   "id": "8c9087ae",
   "metadata": {
    "execution": {
     "iopub.execute_input": "2023-05-17T14:13:37.377196Z",
     "iopub.status.busy": "2023-05-17T14:13:37.376744Z",
     "iopub.status.idle": "2023-05-17T14:13:37.412246Z",
     "shell.execute_reply": "2023-05-17T14:13:37.410902Z"
    },
    "papermill": {
     "duration": 0.075757,
     "end_time": "2023-05-17T14:13:37.415761",
     "exception": false,
     "start_time": "2023-05-17T14:13:37.340004",
     "status": "completed"
    },
    "tags": []
   },
   "outputs": [],
   "source": [
    "y_pred_rfc = rfc.predict(X_test)"
   ]
  },
  {
   "cell_type": "markdown",
   "id": "6bb8f200",
   "metadata": {
    "papermill": {
     "duration": 0.033858,
     "end_time": "2023-05-17T14:13:37.483927",
     "exception": false,
     "start_time": "2023-05-17T14:13:37.450069",
     "status": "completed"
    },
    "tags": []
   },
   "source": [
    "## Training the model using ANN(Artificial Neural Network)"
   ]
  },
  {
   "cell_type": "code",
   "execution_count": 89,
   "id": "edffd116",
   "metadata": {
    "execution": {
     "iopub.execute_input": "2023-05-17T14:13:37.554588Z",
     "iopub.status.busy": "2023-05-17T14:13:37.553956Z",
     "iopub.status.idle": "2023-05-17T14:13:47.268005Z",
     "shell.execute_reply": "2023-05-17T14:13:47.266366Z"
    },
    "papermill": {
     "duration": 9.7535,
     "end_time": "2023-05-17T14:13:47.271578",
     "exception": false,
     "start_time": "2023-05-17T14:13:37.518078",
     "status": "completed"
    },
    "tags": []
   },
   "outputs": [],
   "source": [
    "import tensorflow as tf\n",
    "from tensorflow.keras.callbacks import EarlyStopping"
   ]
  },
  {
   "cell_type": "code",
   "execution_count": 90,
   "id": "3b68391d",
   "metadata": {
    "execution": {
     "iopub.execute_input": "2023-05-17T14:13:47.344115Z",
     "iopub.status.busy": "2023-05-17T14:13:47.342775Z",
     "iopub.status.idle": "2023-05-17T14:13:47.459660Z",
     "shell.execute_reply": "2023-05-17T14:13:47.458299Z"
    },
    "papermill": {
     "duration": 0.156908,
     "end_time": "2023-05-17T14:13:47.463155",
     "exception": false,
     "start_time": "2023-05-17T14:13:47.306247",
     "status": "completed"
    },
    "tags": []
   },
   "outputs": [],
   "source": [
    "ann = tf.keras.models.Sequential()"
   ]
  },
  {
   "cell_type": "code",
   "execution_count": 91,
   "id": "a4930e05",
   "metadata": {
    "execution": {
     "iopub.execute_input": "2023-05-17T14:13:47.533767Z",
     "iopub.status.busy": "2023-05-17T14:13:47.533213Z",
     "iopub.status.idle": "2023-05-17T14:13:47.552610Z",
     "shell.execute_reply": "2023-05-17T14:13:47.551144Z"
    },
    "papermill": {
     "duration": 0.058106,
     "end_time": "2023-05-17T14:13:47.555777",
     "exception": false,
     "start_time": "2023-05-17T14:13:47.497671",
     "status": "completed"
    },
    "tags": []
   },
   "outputs": [],
   "source": [
    "ann.add(tf.keras.layers.Dense(units = 6, activation = 'relu')) \n",
    "ann.add(tf.keras.layers.Dense(units = 6, activation = 'relu'))\n",
    "ann.add(tf.keras.layers.Dense(units = 1, activation = 'sigmoid'))"
   ]
  },
  {
   "cell_type": "code",
   "execution_count": 92,
   "id": "c37ce218",
   "metadata": {
    "execution": {
     "iopub.execute_input": "2023-05-17T14:13:47.625991Z",
     "iopub.status.busy": "2023-05-17T14:13:47.625477Z",
     "iopub.status.idle": "2023-05-17T14:13:47.663513Z",
     "shell.execute_reply": "2023-05-17T14:13:47.662083Z"
    },
    "papermill": {
     "duration": 0.077089,
     "end_time": "2023-05-17T14:13:47.666991",
     "exception": false,
     "start_time": "2023-05-17T14:13:47.589902",
     "status": "completed"
    },
    "tags": []
   },
   "outputs": [],
   "source": [
    "ann.compile(optimizer = 'adam', loss = 'binary_crossentropy', metrics = ['accuracy'])"
   ]
  },
  {
   "cell_type": "code",
   "execution_count": 93,
   "id": "01ebbd9e",
   "metadata": {
    "execution": {
     "iopub.execute_input": "2023-05-17T14:13:47.738301Z",
     "iopub.status.busy": "2023-05-17T14:13:47.737212Z",
     "iopub.status.idle": "2023-05-17T14:15:44.081904Z",
     "shell.execute_reply": "2023-05-17T14:15:44.080055Z"
    },
    "papermill": {
     "duration": 116.384165,
     "end_time": "2023-05-17T14:15:44.085404",
     "exception": false,
     "start_time": "2023-05-17T14:13:47.701239",
     "status": "completed"
    },
    "tags": []
   },
   "outputs": [
    {
     "name": "stdout",
     "output_type": "stream",
     "text": [
      "Epoch 1/100\n",
      "2354/2354 [==============================] - 2s 700us/step - loss: 0.3389 - accuracy: 0.8666 - val_loss: 0.1222 - val_accuracy: 0.9583\n",
      "Epoch 2/100\n",
      "2354/2354 [==============================] - 2s 684us/step - loss: 0.1269 - accuracy: 0.9562 - val_loss: 0.1193 - val_accuracy: 0.9588\n",
      "Epoch 3/100\n",
      "2354/2354 [==============================] - 2s 803us/step - loss: 0.1225 - accuracy: 0.9577 - val_loss: 0.1176 - val_accuracy: 0.9583\n",
      "Epoch 4/100\n",
      "2354/2354 [==============================] - 2s 658us/step - loss: 0.1193 - accuracy: 0.9578 - val_loss: 0.1175 - val_accuracy: 0.9578\n",
      "Epoch 5/100\n",
      "2354/2354 [==============================] - 2s 707us/step - loss: 0.1219 - accuracy: 0.9575 - val_loss: 0.1185 - val_accuracy: 0.9590\n",
      "Epoch 6/100\n",
      "2354/2354 [==============================] - 2s 745us/step - loss: 0.1212 - accuracy: 0.9584 - val_loss: 0.1162 - val_accuracy: 0.9580\n",
      "Epoch 7/100\n",
      "2354/2354 [==============================] - 2s 650us/step - loss: 0.1226 - accuracy: 0.9579 - val_loss: 0.1158 - val_accuracy: 0.9591\n",
      "Epoch 8/100\n",
      "2354/2354 [==============================] - 2s 669us/step - loss: 0.1181 - accuracy: 0.9591 - val_loss: 0.1160 - val_accuracy: 0.9586\n",
      "Epoch 9/100\n",
      "2354/2354 [==============================] - 2s 693us/step - loss: 0.1207 - accuracy: 0.9583 - val_loss: 0.1154 - val_accuracy: 0.9588\n",
      "Epoch 10/100\n",
      "2354/2354 [==============================] - 1s 612us/step - loss: 0.1202 - accuracy: 0.9584 - val_loss: 0.1152 - val_accuracy: 0.9594\n",
      "Epoch 11/100\n",
      "2354/2354 [==============================] - 2s 657us/step - loss: 0.1209 - accuracy: 0.9568 - val_loss: 0.1142 - val_accuracy: 0.9588\n",
      "Epoch 12/100\n",
      "2354/2354 [==============================] - 2s 652us/step - loss: 0.1164 - accuracy: 0.9593 - val_loss: 0.1141 - val_accuracy: 0.9593\n",
      "Epoch 13/100\n",
      "2354/2354 [==============================] - 1s 631us/step - loss: 0.1144 - accuracy: 0.9598 - val_loss: 0.1123 - val_accuracy: 0.9589\n",
      "Epoch 14/100\n",
      "2354/2354 [==============================] - 1s 626us/step - loss: 0.1167 - accuracy: 0.9588 - val_loss: 0.1105 - val_accuracy: 0.9605\n",
      "Epoch 15/100\n",
      "2354/2354 [==============================] - 1s 612us/step - loss: 0.1133 - accuracy: 0.9600 - val_loss: 0.1088 - val_accuracy: 0.9615\n",
      "Epoch 16/100\n",
      "2354/2354 [==============================] - 1s 627us/step - loss: 0.1120 - accuracy: 0.9604 - val_loss: 0.1081 - val_accuracy: 0.9619\n",
      "Epoch 17/100\n",
      "2354/2354 [==============================] - 1s 611us/step - loss: 0.1135 - accuracy: 0.9600 - val_loss: 0.1065 - val_accuracy: 0.9632\n",
      "Epoch 18/100\n",
      "2354/2354 [==============================] - 1s 612us/step - loss: 0.1088 - accuracy: 0.9624 - val_loss: 0.1051 - val_accuracy: 0.9632\n",
      "Epoch 19/100\n",
      "2354/2354 [==============================] - 1s 628us/step - loss: 0.1087 - accuracy: 0.9631 - val_loss: 0.1041 - val_accuracy: 0.9644\n",
      "Epoch 20/100\n",
      "2354/2354 [==============================] - 1s 620us/step - loss: 0.1075 - accuracy: 0.9627 - val_loss: 0.1037 - val_accuracy: 0.9644\n",
      "Epoch 21/100\n",
      "2354/2354 [==============================] - 1s 628us/step - loss: 0.1053 - accuracy: 0.9645 - val_loss: 0.1033 - val_accuracy: 0.9649\n",
      "Epoch 22/100\n",
      "2354/2354 [==============================] - 1s 611us/step - loss: 0.1073 - accuracy: 0.9630 - val_loss: 0.1026 - val_accuracy: 0.9652\n",
      "Epoch 23/100\n",
      "2354/2354 [==============================] - 1s 613us/step - loss: 0.1067 - accuracy: 0.9636 - val_loss: 0.1026 - val_accuracy: 0.9648\n",
      "Epoch 24/100\n",
      "2354/2354 [==============================] - 1s 632us/step - loss: 0.1060 - accuracy: 0.9640 - val_loss: 0.1029 - val_accuracy: 0.9650\n",
      "Epoch 25/100\n",
      "2354/2354 [==============================] - 1s 617us/step - loss: 0.1050 - accuracy: 0.9639 - val_loss: 0.1017 - val_accuracy: 0.9652\n",
      "Epoch 26/100\n",
      "2354/2354 [==============================] - 2s 638us/step - loss: 0.1069 - accuracy: 0.9637 - val_loss: 0.1029 - val_accuracy: 0.9654\n",
      "Epoch 27/100\n",
      "2354/2354 [==============================] - 1s 613us/step - loss: 0.1051 - accuracy: 0.9640 - val_loss: 0.1017 - val_accuracy: 0.9655\n",
      "Epoch 28/100\n",
      "2354/2354 [==============================] - 1s 605us/step - loss: 0.1050 - accuracy: 0.9640 - val_loss: 0.1022 - val_accuracy: 0.9658\n",
      "Epoch 29/100\n",
      "2354/2354 [==============================] - 1s 625us/step - loss: 0.1027 - accuracy: 0.9649 - val_loss: 0.1022 - val_accuracy: 0.9647\n",
      "Epoch 30/100\n",
      "2354/2354 [==============================] - 1s 606us/step - loss: 0.1028 - accuracy: 0.9653 - val_loss: 0.1006 - val_accuracy: 0.9658\n",
      "Epoch 31/100\n",
      "2354/2354 [==============================] - 1s 624us/step - loss: 0.1064 - accuracy: 0.9639 - val_loss: 0.1004 - val_accuracy: 0.9657\n",
      "Epoch 32/100\n",
      "2354/2354 [==============================] - 1s 634us/step - loss: 0.1037 - accuracy: 0.9644 - val_loss: 0.0998 - val_accuracy: 0.9652\n",
      "Epoch 33/100\n",
      "2354/2354 [==============================] - 1s 625us/step - loss: 0.1021 - accuracy: 0.9657 - val_loss: 0.0986 - val_accuracy: 0.9667\n",
      "Epoch 34/100\n",
      "2354/2354 [==============================] - 1s 603us/step - loss: 0.1022 - accuracy: 0.9666 - val_loss: 0.0975 - val_accuracy: 0.9670\n",
      "Epoch 35/100\n",
      "2354/2354 [==============================] - 1s 602us/step - loss: 0.1023 - accuracy: 0.9659 - val_loss: 0.0958 - val_accuracy: 0.9682\n",
      "Epoch 36/100\n",
      "2354/2354 [==============================] - 1s 620us/step - loss: 0.0978 - accuracy: 0.9684 - val_loss: 0.0952 - val_accuracy: 0.9676\n",
      "Epoch 37/100\n",
      "2354/2354 [==============================] - 1s 603us/step - loss: 0.0996 - accuracy: 0.9670 - val_loss: 0.0942 - val_accuracy: 0.9675\n",
      "Epoch 38/100\n",
      "2354/2354 [==============================] - 1s 621us/step - loss: 0.0977 - accuracy: 0.9681 - val_loss: 0.0970 - val_accuracy: 0.9662\n",
      "Epoch 39/100\n",
      "2354/2354 [==============================] - 1s 605us/step - loss: 0.0976 - accuracy: 0.9679 - val_loss: 0.0940 - val_accuracy: 0.9688\n",
      "Epoch 40/100\n",
      "2354/2354 [==============================] - 1s 600us/step - loss: 0.0978 - accuracy: 0.9670 - val_loss: 0.0931 - val_accuracy: 0.9694\n",
      "Epoch 41/100\n",
      "2354/2354 [==============================] - 1s 621us/step - loss: 0.0975 - accuracy: 0.9684 - val_loss: 0.0926 - val_accuracy: 0.9695\n",
      "Epoch 42/100\n",
      "2354/2354 [==============================] - 1s 605us/step - loss: 0.0959 - accuracy: 0.9684 - val_loss: 0.0925 - val_accuracy: 0.9695\n",
      "Epoch 43/100\n",
      "2354/2354 [==============================] - 1s 624us/step - loss: 0.0969 - accuracy: 0.9690 - val_loss: 0.0924 - val_accuracy: 0.9694\n",
      "Epoch 44/100\n",
      "2354/2354 [==============================] - 1s 621us/step - loss: 0.0942 - accuracy: 0.9695 - val_loss: 0.0923 - val_accuracy: 0.9687\n",
      "Epoch 45/100\n",
      "2354/2354 [==============================] - 2s 657us/step - loss: 0.0958 - accuracy: 0.9688 - val_loss: 0.0919 - val_accuracy: 0.9695\n",
      "Epoch 46/100\n",
      "2354/2354 [==============================] - 1s 616us/step - loss: 0.0950 - accuracy: 0.9691 - val_loss: 0.0926 - val_accuracy: 0.9699\n",
      "Epoch 47/100\n",
      "2354/2354 [==============================] - 1s 613us/step - loss: 0.0929 - accuracy: 0.9700 - val_loss: 0.0922 - val_accuracy: 0.9697\n",
      "Epoch 48/100\n",
      "2354/2354 [==============================] - 1s 624us/step - loss: 0.0985 - accuracy: 0.9675 - val_loss: 0.0906 - val_accuracy: 0.9698\n",
      "Epoch 49/100\n",
      "2354/2354 [==============================] - 1s 606us/step - loss: 0.0952 - accuracy: 0.9682 - val_loss: 0.0899 - val_accuracy: 0.9697\n",
      "Epoch 50/100\n",
      "2354/2354 [==============================] - 1s 636us/step - loss: 0.0955 - accuracy: 0.9688 - val_loss: 0.0918 - val_accuracy: 0.9694\n",
      "Epoch 51/100\n",
      "2354/2354 [==============================] - 2s 645us/step - loss: 0.0947 - accuracy: 0.9687 - val_loss: 0.0903 - val_accuracy: 0.9698\n",
      "Epoch 52/100\n",
      "2354/2354 [==============================] - 2s 644us/step - loss: 0.0937 - accuracy: 0.9694 - val_loss: 0.0917 - val_accuracy: 0.9698\n",
      "Epoch 00052: early stopping\n"
     ]
    }
   ],
   "source": [
    "early_stop = EarlyStopping(monitor='val_loss', patience=3, verbose=1)\n",
    "deep_history = ann.fit(X_train, y_train, epochs=100, \n",
    "                              validation_data = (X_test, y_test),\n",
    "                              callbacks=[early_stop])"
   ]
  },
  {
   "cell_type": "code",
   "execution_count": 94,
   "id": "6872ef2a",
   "metadata": {
    "execution": {
     "iopub.execute_input": "2023-05-17T14:15:44.512495Z",
     "iopub.status.busy": "2023-05-17T14:15:44.511747Z",
     "iopub.status.idle": "2023-05-17T14:15:45.848876Z",
     "shell.execute_reply": "2023-05-17T14:15:45.847304Z"
    },
    "papermill": {
     "duration": 1.554158,
     "end_time": "2023-05-17T14:15:45.852288",
     "exception": false,
     "start_time": "2023-05-17T14:15:44.298130",
     "status": "completed"
    },
    "tags": []
   },
   "outputs": [],
   "source": [
    "y_pred_ann = ann.predict(X_test)\n",
    "y_pred_ann = (y_pred_ann>0.5)"
   ]
  },
  {
   "cell_type": "markdown",
   "id": "8a38e9c6",
   "metadata": {
    "papermill": {
     "duration": 0.213779,
     "end_time": "2023-05-17T14:15:46.360851",
     "exception": false,
     "start_time": "2023-05-17T14:15:46.147072",
     "status": "completed"
    },
    "tags": []
   },
   "source": [
    "## Apply SMOTE Technique to balance the data"
   ]
  },
  {
   "cell_type": "code",
   "execution_count": 95,
   "id": "71f57ca1",
   "metadata": {
    "execution": {
     "iopub.execute_input": "2023-05-17T14:15:46.825831Z",
     "iopub.status.busy": "2023-05-17T14:15:46.825357Z",
     "iopub.status.idle": "2023-05-17T14:15:46.889495Z",
     "shell.execute_reply": "2023-05-17T14:15:46.887781Z"
    },
    "papermill": {
     "duration": 0.286335,
     "end_time": "2023-05-17T14:15:46.892977",
     "exception": false,
     "start_time": "2023-05-17T14:15:46.606642",
     "status": "completed"
    },
    "tags": []
   },
   "outputs": [],
   "source": [
    "from sklearn.model_selection import train_test_split\n",
    "(X_sample, y_sample) = train_test_split(data, train_size=0.8, stratify = y)"
   ]
  },
  {
   "cell_type": "code",
   "execution_count": 96,
   "id": "a221882a",
   "metadata": {
    "execution": {
     "iopub.execute_input": "2023-05-17T14:15:47.326079Z",
     "iopub.status.busy": "2023-05-17T14:15:47.325551Z",
     "iopub.status.idle": "2023-05-17T14:15:47.342830Z",
     "shell.execute_reply": "2023-05-17T14:15:47.341203Z"
    },
    "papermill": {
     "duration": 0.237629,
     "end_time": "2023-05-17T14:15:47.346134",
     "exception": false,
     "start_time": "2023-05-17T14:15:47.108505",
     "status": "completed"
    },
    "tags": []
   },
   "outputs": [],
   "source": [
    "X_train = X_sample.iloc[:,:-1].values\n",
    "y_train = X_sample.iloc[:,-1].values\n",
    "X_test_smote = y_sample.iloc[:,:-1].values\n",
    "y_test_smote = y_sample.iloc[:,-1].values"
   ]
  },
  {
   "cell_type": "code",
   "execution_count": 97,
   "id": "4eae5d99",
   "metadata": {
    "execution": {
     "iopub.execute_input": "2023-05-17T14:15:47.778858Z",
     "iopub.status.busy": "2023-05-17T14:15:47.778331Z",
     "iopub.status.idle": "2023-05-17T14:15:48.127360Z",
     "shell.execute_reply": "2023-05-17T14:15:48.125410Z"
    },
    "papermill": {
     "duration": 0.570587,
     "end_time": "2023-05-17T14:15:48.130959",
     "exception": false,
     "start_time": "2023-05-17T14:15:47.560372",
     "status": "completed"
    },
    "tags": []
   },
   "outputs": [],
   "source": [
    "from imblearn.over_sampling import SMOTE\n",
    "smote = SMOTE()\n",
    "X_train_smote, y_train_smote = smote.fit_resample(X_train, y_train)"
   ]
  },
  {
   "cell_type": "markdown",
   "id": "7036ffca",
   "metadata": {
    "papermill": {
     "duration": 0.214886,
     "end_time": "2023-05-17T14:15:48.566025",
     "exception": false,
     "start_time": "2023-05-17T14:15:48.351139",
     "status": "completed"
    },
    "tags": []
   },
   "source": [
    "### Training the dataset using ANN"
   ]
  },
  {
   "cell_type": "code",
   "execution_count": 98,
   "id": "17f0e8b3",
   "metadata": {
    "execution": {
     "iopub.execute_input": "2023-05-17T14:15:48.999523Z",
     "iopub.status.busy": "2023-05-17T14:15:48.998618Z",
     "iopub.status.idle": "2023-05-17T14:15:49.017556Z",
     "shell.execute_reply": "2023-05-17T14:15:49.015858Z"
    },
    "papermill": {
     "duration": 0.240504,
     "end_time": "2023-05-17T14:15:49.020875",
     "exception": false,
     "start_time": "2023-05-17T14:15:48.780371",
     "status": "completed"
    },
    "tags": []
   },
   "outputs": [],
   "source": [
    "ann = tf.keras.models.Sequential()\n",
    "ann.add(tf.keras.layers.Dense(units = 6, activation = 'relu')) \n",
    "ann.add(tf.keras.layers.Dense(units = 6, activation = 'relu'))\n",
    "ann.add(tf.keras.layers.Dense(units = 1, activation = 'sigmoid'))"
   ]
  },
  {
   "cell_type": "code",
   "execution_count": 99,
   "id": "9d4e1ffa",
   "metadata": {
    "execution": {
     "iopub.execute_input": "2023-05-17T14:15:49.455826Z",
     "iopub.status.busy": "2023-05-17T14:15:49.454770Z",
     "iopub.status.idle": "2023-05-17T14:15:49.471931Z",
     "shell.execute_reply": "2023-05-17T14:15:49.470550Z"
    },
    "papermill": {
     "duration": 0.238353,
     "end_time": "2023-05-17T14:15:49.475171",
     "exception": false,
     "start_time": "2023-05-17T14:15:49.236818",
     "status": "completed"
    },
    "tags": []
   },
   "outputs": [],
   "source": [
    "ann.compile(optimizer = 'adam', loss='binary_crossentropy', metrics = ['accuracy'])"
   ]
  },
  {
   "cell_type": "code",
   "execution_count": 100,
   "id": "54a6fc4f",
   "metadata": {
    "execution": {
     "iopub.execute_input": "2023-05-17T14:15:50.006393Z",
     "iopub.status.busy": "2023-05-17T14:15:50.005686Z",
     "iopub.status.idle": "2023-05-17T14:17:45.130050Z",
     "shell.execute_reply": "2023-05-17T14:17:45.127931Z"
    },
    "papermill": {
     "duration": 115.437431,
     "end_time": "2023-05-17T14:17:45.133884",
     "exception": false,
     "start_time": "2023-05-17T14:15:49.696453",
     "status": "completed"
    },
    "tags": []
   },
   "outputs": [
    {
     "name": "stdout",
     "output_type": "stream",
     "text": [
      "Epoch 1/100\n",
      "4283/4283 [==============================] - 3s 665us/step - loss: 2.0237 - accuracy: 0.6336 - val_loss: 0.5002 - val_accuracy: 0.7638\n",
      "Epoch 2/100\n",
      "4283/4283 [==============================] - 3s 599us/step - loss: 0.4383 - accuracy: 0.8046 - val_loss: 0.3099 - val_accuracy: 0.8874\n",
      "Epoch 3/100\n",
      "4283/4283 [==============================] - 3s 588us/step - loss: 0.3003 - accuracy: 0.8748 - val_loss: 0.1926 - val_accuracy: 0.9205\n",
      "Epoch 4/100\n",
      "4283/4283 [==============================] - 3s 596us/step - loss: 0.2536 - accuracy: 0.8870 - val_loss: 0.3260 - val_accuracy: 0.8410\n",
      "Epoch 5/100\n",
      "4283/4283 [==============================] - 3s 598us/step - loss: 0.2510 - accuracy: 0.8869 - val_loss: 0.2661 - val_accuracy: 0.8732\n",
      "Epoch 6/100\n",
      "4283/4283 [==============================] - 3s 602us/step - loss: 0.2491 - accuracy: 0.8863 - val_loss: 0.2822 - val_accuracy: 0.8649\n",
      "Epoch 00006: early stopping\n"
     ]
    }
   ],
   "source": [
    "early_stop = EarlyStopping(monitor='val_loss', patience=3, verbose=1)\n",
    "deep_history = ann.fit(X_train_smote, y_train_smote, epochs=100,\n",
    "                              validation_data = (X_test_smote, y_test_smote),\n",
    "                              callbacks=[early_stop])"
   ]
  },
  {
   "cell_type": "code",
   "execution_count": 101,
   "id": "4fb77ad2",
   "metadata": {
    "execution": {
     "iopub.execute_input": "2023-05-17T14:17:45.954240Z",
     "iopub.status.busy": "2023-05-17T14:17:45.953710Z",
     "iopub.status.idle": "2023-05-17T14:17:47.200899Z",
     "shell.execute_reply": "2023-05-17T14:17:47.199349Z"
    },
    "papermill": {
     "duration": 1.660297,
     "end_time": "2023-05-17T14:17:47.204196",
     "exception": false,
     "start_time": "2023-05-17T14:17:45.543899",
     "status": "completed"
    },
    "tags": []
   },
   "outputs": [],
   "source": [
    "y_pred_ann_smote = ann.predict(X_test_smote)\n",
    "y_pred_ann_smote = (y_pred_ann_smote>0.5)"
   ]
  },
  {
   "cell_type": "markdown",
   "id": "a5b81356",
   "metadata": {
    "papermill": {
     "duration": 0.40469,
     "end_time": "2023-05-17T14:17:48.045944",
     "exception": false,
     "start_time": "2023-05-17T14:17:47.641254",
     "status": "completed"
    },
    "tags": []
   },
   "source": [
    "### Training model using Kernel SVM"
   ]
  },
  {
   "cell_type": "code",
   "execution_count": 102,
   "id": "b43fef48",
   "metadata": {
    "execution": {
     "iopub.execute_input": "2023-05-17T14:17:48.931324Z",
     "iopub.status.busy": "2023-05-17T14:17:48.930889Z",
     "iopub.status.idle": "2023-05-17T14:30:12.998782Z",
     "shell.execute_reply": "2023-05-17T14:30:12.997260Z"
    },
    "papermill": {
     "duration": 744.552097,
     "end_time": "2023-05-17T14:30:13.002848",
     "exception": false,
     "start_time": "2023-05-17T14:17:48.450751",
     "status": "completed"
    },
    "tags": []
   },
   "outputs": [],
   "source": [
    "ksvm_smote = SVC(kernel = 'rbf')\n",
    "ksvm_smote.fit(X_train_smote, y_train_smote)\n",
    "y_pred_ksvm_smote = ksvm_smote.predict(X_test_smote)"
   ]
  },
  {
   "cell_type": "markdown",
   "id": "ef5f076b",
   "metadata": {
    "papermill": {
     "duration": 0.407138,
     "end_time": "2023-05-17T14:30:13.826043",
     "exception": false,
     "start_time": "2023-05-17T14:30:13.418905",
     "status": "completed"
    },
    "tags": []
   },
   "source": [
    "### Training of the model using RandomForestClassifier"
   ]
  },
  {
   "cell_type": "code",
   "execution_count": 103,
   "id": "362368e4",
   "metadata": {
    "execution": {
     "iopub.execute_input": "2023-05-17T14:30:14.643002Z",
     "iopub.status.busy": "2023-05-17T14:30:14.642162Z",
     "iopub.status.idle": "2023-05-17T14:30:30.378686Z",
     "shell.execute_reply": "2023-05-17T14:30:30.377144Z"
    },
    "papermill": {
     "duration": 16.154586,
     "end_time": "2023-05-17T14:30:30.382424",
     "exception": false,
     "start_time": "2023-05-17T14:30:14.227838",
     "status": "completed"
    },
    "tags": []
   },
   "outputs": [],
   "source": [
    "rfc_smote = RandomForestClassifier()\n",
    "rfc_smote.fit(X_train_smote, y_train_smote)\n",
    "y_pred_rfc_smote = rfc_smote.predict(X_test_smote)"
   ]
  },
  {
   "cell_type": "markdown",
   "id": "5d82c838",
   "metadata": {
    "papermill": {
     "duration": 0.401997,
     "end_time": "2023-05-17T14:30:31.193965",
     "exception": false,
     "start_time": "2023-05-17T14:30:30.791968",
     "status": "completed"
    },
    "tags": []
   },
   "source": [
    "### Training of the model using NaiveBayes"
   ]
  },
  {
   "cell_type": "code",
   "execution_count": 104,
   "id": "ea3f0837",
   "metadata": {
    "execution": {
     "iopub.execute_input": "2023-05-17T14:30:32.070781Z",
     "iopub.status.busy": "2023-05-17T14:30:32.070257Z",
     "iopub.status.idle": "2023-05-17T14:30:32.116547Z",
     "shell.execute_reply": "2023-05-17T14:30:32.115092Z"
    },
    "papermill": {
     "duration": 0.462978,
     "end_time": "2023-05-17T14:30:32.120170",
     "exception": false,
     "start_time": "2023-05-17T14:30:31.657192",
     "status": "completed"
    },
    "tags": []
   },
   "outputs": [],
   "source": [
    "gnb_smote = GaussianNB()\n",
    "gnb_smote.fit(X_train_smote, y_train_smote)\n",
    "y_pred_gnb_smote = gnb_smote.predict(X_test_smote)"
   ]
  },
  {
   "cell_type": "markdown",
   "id": "4c5faeb5",
   "metadata": {
    "papermill": {
     "duration": 0.403557,
     "end_time": "2023-05-17T14:30:32.927321",
     "exception": false,
     "start_time": "2023-05-17T14:30:32.523764",
     "status": "completed"
    },
    "tags": []
   },
   "source": [
    "### Training of the model using LinearSVM"
   ]
  },
  {
   "cell_type": "code",
   "execution_count": 105,
   "id": "fbe146aa",
   "metadata": {
    "execution": {
     "iopub.execute_input": "2023-05-17T14:30:33.735024Z",
     "iopub.status.busy": "2023-05-17T14:30:33.734083Z",
     "iopub.status.idle": "2023-05-17T14:42:32.632620Z",
     "shell.execute_reply": "2023-05-17T14:42:32.631467Z"
    },
    "papermill": {
     "duration": 719.303738,
     "end_time": "2023-05-17T14:42:32.636021",
     "exception": false,
     "start_time": "2023-05-17T14:30:33.332283",
     "status": "completed"
    },
    "tags": []
   },
   "outputs": [],
   "source": [
    "svm_smote = SVC()\n",
    "svm_smote.fit(X_train_smote, y_train_smote)\n",
    "y_pred_svm_smote = svm_smote.predict(X_test_smote)"
   ]
  },
  {
   "cell_type": "markdown",
   "id": "5f82dba1",
   "metadata": {
    "papermill": {
     "duration": 0.468651,
     "end_time": "2023-05-17T14:42:33.509730",
     "exception": false,
     "start_time": "2023-05-17T14:42:33.041079",
     "status": "completed"
    },
    "tags": []
   },
   "source": [
    "### Training of the model using LogisticRegression"
   ]
  },
  {
   "cell_type": "code",
   "execution_count": 106,
   "id": "ab392799",
   "metadata": {
    "execution": {
     "iopub.execute_input": "2023-05-17T14:42:34.315101Z",
     "iopub.status.busy": "2023-05-17T14:42:34.314678Z",
     "iopub.status.idle": "2023-05-17T14:42:36.416017Z",
     "shell.execute_reply": "2023-05-17T14:42:36.414672Z"
    },
    "papermill": {
     "duration": 2.510325,
     "end_time": "2023-05-17T14:42:36.420685",
     "exception": false,
     "start_time": "2023-05-17T14:42:33.910360",
     "status": "completed"
    },
    "tags": []
   },
   "outputs": [
    {
     "name": "stderr",
     "output_type": "stream",
     "text": [
      "c:\\Python37\\lib\\site-packages\\sklearn\\linear_model\\_logistic.py:818: ConvergenceWarning: lbfgs failed to converge (status=1):\n",
      "STOP: TOTAL NO. of ITERATIONS REACHED LIMIT.\n",
      "\n",
      "Increase the number of iterations (max_iter) or scale the data as shown in:\n",
      "    https://scikit-learn.org/stable/modules/preprocessing.html\n",
      "Please also refer to the documentation for alternative solver options:\n",
      "    https://scikit-learn.org/stable/modules/linear_model.html#logistic-regression\n",
      "  extra_warning_msg=_LOGISTIC_SOLVER_CONVERGENCE_MSG,\n"
     ]
    }
   ],
   "source": [
    "lr_smote = LogisticRegression()\n",
    "lr_smote.fit(X_train_smote, y_train_smote)\n",
    "y_pred_lr_smote = lr_smote.predict(X_test_smote)"
   ]
  },
  {
   "cell_type": "markdown",
   "id": "59d87696",
   "metadata": {
    "papermill": {
     "duration": 0.399493,
     "end_time": "2023-05-17T14:42:37.280728",
     "exception": false,
     "start_time": "2023-05-17T14:42:36.881235",
     "status": "completed"
    },
    "tags": []
   },
   "source": [
    "### Training of the model using DecisionTreeClassifier"
   ]
  },
  {
   "cell_type": "code",
   "execution_count": 107,
   "id": "6922d10d",
   "metadata": {
    "execution": {
     "iopub.execute_input": "2023-05-17T14:42:38.095085Z",
     "iopub.status.busy": "2023-05-17T14:42:38.094604Z",
     "iopub.status.idle": "2023-05-17T14:42:40.215647Z",
     "shell.execute_reply": "2023-05-17T14:42:40.213270Z"
    },
    "papermill": {
     "duration": 2.53619,
     "end_time": "2023-05-17T14:42:40.221410",
     "exception": false,
     "start_time": "2023-05-17T14:42:37.685220",
     "status": "completed"
    },
    "tags": []
   },
   "outputs": [
    {
     "name": "stderr",
     "output_type": "stream",
     "text": [
      "c:\\Python37\\lib\\site-packages\\sklearn\\linear_model\\_logistic.py:818: ConvergenceWarning: lbfgs failed to converge (status=1):\n",
      "STOP: TOTAL NO. of ITERATIONS REACHED LIMIT.\n",
      "\n",
      "Increase the number of iterations (max_iter) or scale the data as shown in:\n",
      "    https://scikit-learn.org/stable/modules/preprocessing.html\n",
      "Please also refer to the documentation for alternative solver options:\n",
      "    https://scikit-learn.org/stable/modules/linear_model.html#logistic-regression\n",
      "  extra_warning_msg=_LOGISTIC_SOLVER_CONVERGENCE_MSG,\n"
     ]
    }
   ],
   "source": [
    "dtc_smote = LogisticRegression()\n",
    "dtc_smote.fit(X_train_smote, y_train_smote)\n",
    "y_pred_dtc_smote = dtc_smote.predict(X_test_smote)"
   ]
  },
  {
   "cell_type": "markdown",
   "id": "6c2fbd3d",
   "metadata": {
    "papermill": {
     "duration": 0.410305,
     "end_time": "2023-05-17T14:42:41.097517",
     "exception": false,
     "start_time": "2023-05-17T14:42:40.687212",
     "status": "completed"
    },
    "tags": []
   },
   "source": [
    "### Training of the model using KNN"
   ]
  },
  {
   "cell_type": "code",
   "execution_count": 108,
   "id": "cbcd8480",
   "metadata": {
    "execution": {
     "iopub.execute_input": "2023-05-17T14:42:41.965154Z",
     "iopub.status.busy": "2023-05-17T14:42:41.964582Z",
     "iopub.status.idle": "2023-05-17T14:42:43.349731Z",
     "shell.execute_reply": "2023-05-17T14:42:43.348354Z"
    },
    "papermill": {
     "duration": 1.791003,
     "end_time": "2023-05-17T14:42:43.353170",
     "exception": false,
     "start_time": "2023-05-17T14:42:41.562167",
     "status": "completed"
    },
    "tags": []
   },
   "outputs": [],
   "source": [
    "knn_smote = KNeighborsClassifier(n_neighbors = 5)\n",
    "knn_smote.fit(X_train_smote, y_train_smote)\n",
    "y_pred_knn_smote = knn_smote.predict(X_test_smote)"
   ]
  },
  {
   "cell_type": "markdown",
   "id": "4c397746",
   "metadata": {
    "papermill": {
     "duration": 0.408371,
     "end_time": "2023-05-17T14:42:44.199781",
     "exception": false,
     "start_time": "2023-05-17T14:42:43.791410",
     "status": "completed"
    },
    "tags": []
   },
   "source": [
    "## Now, compare Accuracy, F1_score and other params for each classification algorithm before and After SMOTE"
   ]
  },
  {
   "cell_type": "code",
   "execution_count": 109,
   "id": "03fcfe99",
   "metadata": {
    "execution": {
     "iopub.execute_input": "2023-05-17T14:42:45.006121Z",
     "iopub.status.busy": "2023-05-17T14:42:45.005176Z",
     "iopub.status.idle": "2023-05-17T14:42:45.016517Z",
     "shell.execute_reply": "2023-05-17T14:42:45.015076Z"
    },
    "papermill": {
     "duration": 0.419141,
     "end_time": "2023-05-17T14:42:45.019365",
     "exception": false,
     "start_time": "2023-05-17T14:42:44.600224",
     "status": "completed"
    },
    "tags": []
   },
   "outputs": [
    {
     "name": "stdout",
     "output_type": "stream",
     "text": [
      "1210\n"
     ]
    }
   ],
   "source": [
    "print(confusion_matrix(y_test, y_pred_ann).ravel()[3])"
   ]
  },
  {
   "cell_type": "code",
   "execution_count": 110,
   "id": "0875d773",
   "metadata": {
    "execution": {
     "iopub.execute_input": "2023-05-17T14:42:45.828561Z",
     "iopub.status.busy": "2023-05-17T14:42:45.828035Z",
     "iopub.status.idle": "2023-05-17T14:42:46.182312Z",
     "shell.execute_reply": "2023-05-17T14:42:46.181254Z"
    },
    "papermill": {
     "duration": 0.764142,
     "end_time": "2023-05-17T14:42:46.184891",
     "exception": false,
     "start_time": "2023-05-17T14:42:45.420749",
     "status": "completed"
    },
    "tags": []
   },
   "outputs": [
    {
     "data": {
      "text/html": [
       "<div>\n",
       "<style scoped>\n",
       "    .dataframe tbody tr th:only-of-type {\n",
       "        vertical-align: middle;\n",
       "    }\n",
       "\n",
       "    .dataframe tbody tr th {\n",
       "        vertical-align: top;\n",
       "    }\n",
       "\n",
       "    .dataframe thead th {\n",
       "        text-align: right;\n",
       "    }\n",
       "</style>\n",
       "<table border=\"1\" class=\"dataframe\">\n",
       "  <thead>\n",
       "    <tr style=\"text-align: right;\">\n",
       "      <th></th>\n",
       "      <th>Before/After SMOTE</th>\n",
       "      <th>Model Name</th>\n",
       "      <th>True Negative</th>\n",
       "      <th>False Positive</th>\n",
       "      <th>False Negative</th>\n",
       "      <th>True Positive</th>\n",
       "      <th>Accuracy Score</th>\n",
       "      <th>F1 Score</th>\n",
       "    </tr>\n",
       "  </thead>\n",
       "  <tbody>\n",
       "    <tr>\n",
       "      <th>0</th>\n",
       "      <td>Before</td>\n",
       "      <td>LR</td>\n",
       "      <td>16931</td>\n",
       "      <td>146</td>\n",
       "      <td>632</td>\n",
       "      <td>1118</td>\n",
       "      <td>0.958676</td>\n",
       "      <td>0.741871</td>\n",
       "    </tr>\n",
       "    <tr>\n",
       "      <th>1</th>\n",
       "      <td>Before</td>\n",
       "      <td>KNN</td>\n",
       "      <td>16953</td>\n",
       "      <td>124</td>\n",
       "      <td>639</td>\n",
       "      <td>1111</td>\n",
       "      <td>0.959473</td>\n",
       "      <td>0.744389</td>\n",
       "    </tr>\n",
       "    <tr>\n",
       "      <th>2</th>\n",
       "      <td>Before</td>\n",
       "      <td>SVM</td>\n",
       "      <td>17009</td>\n",
       "      <td>68</td>\n",
       "      <td>712</td>\n",
       "      <td>1038</td>\n",
       "      <td>0.958570</td>\n",
       "      <td>0.726891</td>\n",
       "    </tr>\n",
       "    <tr>\n",
       "      <th>3</th>\n",
       "      <td>Before</td>\n",
       "      <td>Kernel SVM</td>\n",
       "      <td>17059</td>\n",
       "      <td>18</td>\n",
       "      <td>714</td>\n",
       "      <td>1036</td>\n",
       "      <td>0.961120</td>\n",
       "      <td>0.738944</td>\n",
       "    </tr>\n",
       "    <tr>\n",
       "      <th>4</th>\n",
       "      <td>Before</td>\n",
       "      <td>Naive Bayes</td>\n",
       "      <td>15910</td>\n",
       "      <td>1167</td>\n",
       "      <td>585</td>\n",
       "      <td>1165</td>\n",
       "      <td>0.906942</td>\n",
       "      <td>0.570799</td>\n",
       "    </tr>\n",
       "    <tr>\n",
       "      <th>5</th>\n",
       "      <td>Before</td>\n",
       "      <td>DecisionTree</td>\n",
       "      <td>16570</td>\n",
       "      <td>507</td>\n",
       "      <td>433</td>\n",
       "      <td>1317</td>\n",
       "      <td>0.950072</td>\n",
       "      <td>0.736989</td>\n",
       "    </tr>\n",
       "    <tr>\n",
       "      <th>6</th>\n",
       "      <td>Before</td>\n",
       "      <td>RandomForest</td>\n",
       "      <td>17001</td>\n",
       "      <td>76</td>\n",
       "      <td>531</td>\n",
       "      <td>1219</td>\n",
       "      <td>0.967759</td>\n",
       "      <td>0.800657</td>\n",
       "    </tr>\n",
       "    <tr>\n",
       "      <th>7</th>\n",
       "      <td>Before</td>\n",
       "      <td>ANN</td>\n",
       "      <td>17049</td>\n",
       "      <td>28</td>\n",
       "      <td>540</td>\n",
       "      <td>1210</td>\n",
       "      <td>0.969831</td>\n",
       "      <td>0.809906</td>\n",
       "    </tr>\n",
       "    <tr>\n",
       "      <th>8</th>\n",
       "      <td>After</td>\n",
       "      <td>LR</td>\n",
       "      <td>15245</td>\n",
       "      <td>1886</td>\n",
       "      <td>212</td>\n",
       "      <td>1484</td>\n",
       "      <td>0.888564</td>\n",
       "      <td>0.585867</td>\n",
       "    </tr>\n",
       "    <tr>\n",
       "      <th>9</th>\n",
       "      <td>After</td>\n",
       "      <td>KNN</td>\n",
       "      <td>15497</td>\n",
       "      <td>1634</td>\n",
       "      <td>341</td>\n",
       "      <td>1355</td>\n",
       "      <td>0.895097</td>\n",
       "      <td>0.578442</td>\n",
       "    </tr>\n",
       "    <tr>\n",
       "      <th>10</th>\n",
       "      <td>After</td>\n",
       "      <td>SVM</td>\n",
       "      <td>14939</td>\n",
       "      <td>2192</td>\n",
       "      <td>133</td>\n",
       "      <td>1563</td>\n",
       "      <td>0.876507</td>\n",
       "      <td>0.573473</td>\n",
       "    </tr>\n",
       "    <tr>\n",
       "      <th>11</th>\n",
       "      <td>After</td>\n",
       "      <td>Kernel SVM</td>\n",
       "      <td>14939</td>\n",
       "      <td>2192</td>\n",
       "      <td>133</td>\n",
       "      <td>1563</td>\n",
       "      <td>0.876507</td>\n",
       "      <td>0.573473</td>\n",
       "    </tr>\n",
       "    <tr>\n",
       "      <th>12</th>\n",
       "      <td>After</td>\n",
       "      <td>Naive Bayes</td>\n",
       "      <td>15283</td>\n",
       "      <td>1848</td>\n",
       "      <td>322</td>\n",
       "      <td>1374</td>\n",
       "      <td>0.884740</td>\n",
       "      <td>0.558764</td>\n",
       "    </tr>\n",
       "    <tr>\n",
       "      <th>13</th>\n",
       "      <td>After</td>\n",
       "      <td>DecisionTree</td>\n",
       "      <td>15245</td>\n",
       "      <td>1886</td>\n",
       "      <td>212</td>\n",
       "      <td>1484</td>\n",
       "      <td>0.888564</td>\n",
       "      <td>0.585867</td>\n",
       "    </tr>\n",
       "    <tr>\n",
       "      <th>14</th>\n",
       "      <td>After</td>\n",
       "      <td>RandomForest</td>\n",
       "      <td>16981</td>\n",
       "      <td>150</td>\n",
       "      <td>488</td>\n",
       "      <td>1208</td>\n",
       "      <td>0.966112</td>\n",
       "      <td>0.791094</td>\n",
       "    </tr>\n",
       "    <tr>\n",
       "      <th>15</th>\n",
       "      <td>After</td>\n",
       "      <td>ANN</td>\n",
       "      <td>14718</td>\n",
       "      <td>2413</td>\n",
       "      <td>130</td>\n",
       "      <td>1566</td>\n",
       "      <td>0.864928</td>\n",
       "      <td>0.551894</td>\n",
       "    </tr>\n",
       "  </tbody>\n",
       "</table>\n",
       "</div>"
      ],
      "text/plain": [
       "   Before/After SMOTE    Model Name  True Negative  False Positive  \\\n",
       "0              Before            LR          16931             146   \n",
       "1              Before           KNN          16953             124   \n",
       "2              Before           SVM          17009              68   \n",
       "3              Before    Kernel SVM          17059              18   \n",
       "4              Before   Naive Bayes          15910            1167   \n",
       "5              Before  DecisionTree          16570             507   \n",
       "6              Before  RandomForest          17001              76   \n",
       "7              Before           ANN          17049              28   \n",
       "8               After            LR          15245            1886   \n",
       "9               After           KNN          15497            1634   \n",
       "10              After           SVM          14939            2192   \n",
       "11              After    Kernel SVM          14939            2192   \n",
       "12              After   Naive Bayes          15283            1848   \n",
       "13              After  DecisionTree          15245            1886   \n",
       "14              After  RandomForest          16981             150   \n",
       "15              After           ANN          14718            2413   \n",
       "\n",
       "    False Negative  True Positive  Accuracy Score  F1 Score  \n",
       "0              632           1118        0.958676  0.741871  \n",
       "1              639           1111        0.959473  0.744389  \n",
       "2              712           1038        0.958570  0.726891  \n",
       "3              714           1036        0.961120  0.738944  \n",
       "4              585           1165        0.906942  0.570799  \n",
       "5              433           1317        0.950072  0.736989  \n",
       "6              531           1219        0.967759  0.800657  \n",
       "7              540           1210        0.969831  0.809906  \n",
       "8              212           1484        0.888564  0.585867  \n",
       "9              341           1355        0.895097  0.578442  \n",
       "10             133           1563        0.876507  0.573473  \n",
       "11             133           1563        0.876507  0.573473  \n",
       "12             322           1374        0.884740  0.558764  \n",
       "13             212           1484        0.888564  0.585867  \n",
       "14             488           1208        0.966112  0.791094  \n",
       "15             130           1566        0.864928  0.551894  "
      ]
     },
     "execution_count": 110,
     "metadata": {},
     "output_type": "execute_result"
    }
   ],
   "source": [
    "\n",
    "df = pd.DataFrame({\n",
    "    'Before/After SMOTE' : ['Before','Before','Before','Before','Before', 'Before','Before','Before','After','After','After','After','After','After','After','After'],\n",
    "    'Model Name': ['LR', 'KNN', 'SVM', 'Kernel SVM','Naive Bayes', 'DecisionTree', 'RandomForest', 'ANN', 'LR', 'KNN', 'SVM', 'Kernel SVM','Naive Bayes', 'DecisionTree', 'RandomForest', 'ANN'],\n",
    "    'True Negative': [confusion_matrix(y_test, y_pred_lr).ravel()[0], confusion_matrix(y_test, y_pred_knn).ravel()[0], confusion_matrix(y_test, y_pred_svm).ravel()[0], confusion_matrix(y_test, y_pred_ksvm).ravel()[0], confusion_matrix(y_test, y_pred_gnb).ravel()[0], confusion_matrix(y_test, y_pred_dtc).ravel()[0], confusion_matrix(y_test, y_pred_rfc).ravel()[0], confusion_matrix(y_test, y_pred_ann).ravel()[0], confusion_matrix(y_test_smote, y_pred_lr_smote).ravel()[0], confusion_matrix(y_test_smote, y_pred_knn_smote).ravel()[0], confusion_matrix(y_test_smote, y_pred_svm_smote).ravel()[0], confusion_matrix(y_test_smote, y_pred_ksvm_smote).ravel()[0], confusion_matrix(y_test_smote, y_pred_gnb_smote).ravel()[0], confusion_matrix(y_test_smote, y_pred_dtc_smote).ravel()[0], confusion_matrix(y_test_smote, y_pred_rfc_smote).ravel()[0], confusion_matrix(y_test_smote, y_pred_ann_smote).ravel()[0]],\n",
    "    'False Positive': [confusion_matrix(y_test, y_pred_lr).ravel()[1], confusion_matrix(y_test, y_pred_knn).ravel()[1], confusion_matrix(y_test, y_pred_svm).ravel()[1], confusion_matrix(y_test, y_pred_ksvm).ravel()[1], confusion_matrix(y_test, y_pred_gnb).ravel()[1], confusion_matrix(y_test, y_pred_dtc).ravel()[1], confusion_matrix(y_test, y_pred_rfc).ravel()[1], confusion_matrix(y_test, y_pred_ann).ravel()[1], confusion_matrix(y_test_smote, y_pred_lr_smote).ravel()[1], confusion_matrix(y_test_smote, y_pred_knn_smote).ravel()[1], confusion_matrix(y_test_smote, y_pred_svm_smote).ravel()[1], confusion_matrix(y_test_smote, y_pred_ksvm_smote).ravel()[1], confusion_matrix(y_test_smote, y_pred_gnb_smote).ravel()[1], confusion_matrix(y_test_smote, y_pred_dtc_smote).ravel()[1], confusion_matrix(y_test_smote, y_pred_rfc_smote).ravel()[1], confusion_matrix(y_test_smote, y_pred_ann_smote).ravel()[1]],\n",
    "    'False Negative': [confusion_matrix(y_test, y_pred_lr).ravel()[2], confusion_matrix(y_test, y_pred_knn).ravel()[2], confusion_matrix(y_test, y_pred_svm).ravel()[2], confusion_matrix(y_test, y_pred_ksvm).ravel()[2], confusion_matrix(y_test, y_pred_gnb).ravel()[2], confusion_matrix(y_test, y_pred_dtc).ravel()[2], confusion_matrix(y_test, y_pred_rfc).ravel()[2], confusion_matrix(y_test, y_pred_ann).ravel()[2], confusion_matrix(y_test_smote, y_pred_lr_smote).ravel()[2], confusion_matrix(y_test_smote, y_pred_knn_smote).ravel()[2], confusion_matrix(y_test_smote, y_pred_svm_smote).ravel()[2], confusion_matrix(y_test_smote, y_pred_ksvm_smote).ravel()[2], confusion_matrix(y_test_smote, y_pred_gnb_smote).ravel()[2], confusion_matrix(y_test_smote, y_pred_dtc_smote).ravel()[2], confusion_matrix(y_test_smote, y_pred_rfc_smote).ravel()[2], confusion_matrix(y_test_smote, y_pred_ann_smote).ravel()[2]],\n",
    "    'True Positive': [confusion_matrix(y_test, y_pred_lr).ravel()[3], confusion_matrix(y_test, y_pred_knn).ravel()[3], confusion_matrix(y_test, y_pred_svm).ravel()[3], confusion_matrix(y_test, y_pred_ksvm).ravel()[3], confusion_matrix(y_test, y_pred_gnb).ravel()[3], confusion_matrix(y_test, y_pred_dtc).ravel()[3], confusion_matrix(y_test, y_pred_rfc).ravel()[3], confusion_matrix(y_test, y_pred_ann).ravel()[3], confusion_matrix(y_test_smote, y_pred_lr_smote).ravel()[3], confusion_matrix(y_test_smote, y_pred_knn_smote).ravel()[3], confusion_matrix(y_test_smote, y_pred_svm_smote).ravel()[3], confusion_matrix(y_test_smote, y_pred_ksvm_smote).ravel()[3], confusion_matrix(y_test_smote, y_pred_gnb_smote).ravel()[3], confusion_matrix(y_test_smote, y_pred_dtc_smote).ravel()[3], confusion_matrix(y_test_smote, y_pred_rfc_smote).ravel()[3], confusion_matrix(y_test_smote, y_pred_ann_smote).ravel()[3]],\n",
    "    'Accuracy Score': [accuracy_score(y_test, y_pred_lr), accuracy_score(y_test, y_pred_knn), accuracy_score(y_test, y_pred_svm), accuracy_score(y_test, y_pred_ksvm), accuracy_score(y_test, y_pred_gnb), accuracy_score(y_test, y_pred_dtc), accuracy_score(y_test, y_pred_rfc), accuracy_score(y_test, y_pred_ann), accuracy_score(y_test_smote, y_pred_lr_smote), accuracy_score(y_test_smote, y_pred_knn_smote), accuracy_score(y_test_smote, y_pred_svm_smote), accuracy_score(y_test_smote, y_pred_ksvm_smote), accuracy_score(y_test_smote, y_pred_gnb_smote), accuracy_score(y_test_smote, y_pred_dtc_smote), accuracy_score(y_test_smote, y_pred_rfc_smote), accuracy_score(y_test_smote, y_pred_ann_smote)],\n",
    "    'F1 Score': [f1_score(y_test, y_pred_lr), f1_score(y_test, y_pred_knn), f1_score(y_test, y_pred_svm), f1_score(y_test, y_pred_ksvm), f1_score(y_test, y_pred_gnb), f1_score(y_test, y_pred_dtc), f1_score(y_test, y_pred_rfc), f1_score(y_test, y_pred_ann), f1_score(y_test_smote, y_pred_lr_smote), f1_score(y_test_smote, y_pred_knn_smote), f1_score(y_test_smote, y_pred_svm_smote), f1_score(y_test_smote, y_pred_ksvm_smote), f1_score(y_test_smote, y_pred_gnb_smote), f1_score(y_test_smote, y_pred_dtc_smote), f1_score(y_test_smote, y_pred_rfc_smote), f1_score(y_test_smote, y_pred_ann_smote)],\n",
    "})\n",
    "df"
   ]
  },
  {
   "cell_type": "markdown",
   "id": "3ee8a610",
   "metadata": {
    "papermill": {
     "duration": 0.467164,
     "end_time": "2023-05-17T14:42:47.055417",
     "exception": false,
     "start_time": "2023-05-17T14:42:46.588253",
     "status": "completed"
    },
    "tags": []
   },
   "source": [
    "## Conclusion:\n",
    "1. Before SMOTE, ANN have highest accuracy but After apply SMOTE, RandomForest has highest accuracy 96.5%\n",
    "2. Before SMOTE, F1_score for KNN is 0.\n",
    "3. For RandomForest, Before SMOTE F1_score is: 80% and After SMOTE F1_score is: 78.42%"
   ]
  },
  {
   "cell_type": "code",
   "execution_count": 111,
   "id": "a0bec6d3",
   "metadata": {
    "execution": {
     "iopub.execute_input": "2023-05-17T14:42:47.879303Z",
     "iopub.status.busy": "2023-05-17T14:42:47.878783Z",
     "iopub.status.idle": "2023-05-17T14:42:47.896859Z",
     "shell.execute_reply": "2023-05-17T14:42:47.895580Z"
    },
    "papermill": {
     "duration": 0.434121,
     "end_time": "2023-05-17T14:42:47.899585",
     "exception": false,
     "start_time": "2023-05-17T14:42:47.465464",
     "status": "completed"
    },
    "tags": []
   },
   "outputs": [
    {
     "data": {
      "text/html": [
       "<div>\n",
       "<style scoped>\n",
       "    .dataframe tbody tr th:only-of-type {\n",
       "        vertical-align: middle;\n",
       "    }\n",
       "\n",
       "    .dataframe tbody tr th {\n",
       "        vertical-align: top;\n",
       "    }\n",
       "\n",
       "    .dataframe thead th {\n",
       "        text-align: right;\n",
       "    }\n",
       "</style>\n",
       "<table border=\"1\" class=\"dataframe\">\n",
       "  <thead>\n",
       "    <tr style=\"text-align: right;\">\n",
       "      <th></th>\n",
       "      <th>Before/After SMOTE</th>\n",
       "      <th>Model Name</th>\n",
       "      <th>True Negative</th>\n",
       "      <th>False Positive</th>\n",
       "      <th>False Negative</th>\n",
       "      <th>True Positive</th>\n",
       "      <th>Accuracy Score</th>\n",
       "      <th>F1 Score</th>\n",
       "    </tr>\n",
       "  </thead>\n",
       "  <tbody>\n",
       "    <tr>\n",
       "      <th>6</th>\n",
       "      <td>Before</td>\n",
       "      <td>RandomForest</td>\n",
       "      <td>17001</td>\n",
       "      <td>76</td>\n",
       "      <td>531</td>\n",
       "      <td>1219</td>\n",
       "      <td>0.967759</td>\n",
       "      <td>0.800657</td>\n",
       "    </tr>\n",
       "    <tr>\n",
       "      <th>14</th>\n",
       "      <td>After</td>\n",
       "      <td>RandomForest</td>\n",
       "      <td>16981</td>\n",
       "      <td>150</td>\n",
       "      <td>488</td>\n",
       "      <td>1208</td>\n",
       "      <td>0.966112</td>\n",
       "      <td>0.791094</td>\n",
       "    </tr>\n",
       "  </tbody>\n",
       "</table>\n",
       "</div>"
      ],
      "text/plain": [
       "   Before/After SMOTE    Model Name  True Negative  False Positive  \\\n",
       "6              Before  RandomForest          17001              76   \n",
       "14              After  RandomForest          16981             150   \n",
       "\n",
       "    False Negative  True Positive  Accuracy Score  F1 Score  \n",
       "6              531           1219        0.967759  0.800657  \n",
       "14             488           1208        0.966112  0.791094  "
      ]
     },
     "execution_count": 111,
     "metadata": {},
     "output_type": "execute_result"
    }
   ],
   "source": [
    "### Explore the RandomForest\n",
    "df_rfc = df[df['Model Name'] == 'RandomForest']\n",
    "df_rfc"
   ]
  },
  {
   "cell_type": "markdown",
   "id": "c6bb293d",
   "metadata": {
    "papermill": {
     "duration": 0.408301,
     "end_time": "2023-05-17T14:42:48.716354",
     "exception": false,
     "start_time": "2023-05-17T14:42:48.308053",
     "status": "completed"
    },
    "tags": []
   },
   "source": [
    "False Negative are reduced from 531 to 504(5%)"
   ]
  },
  {
   "cell_type": "markdown",
   "id": "5d97b742",
   "metadata": {
    "papermill": {
     "duration": 0.404677,
     "end_time": "2023-05-17T14:42:49.528406",
     "exception": false,
     "start_time": "2023-05-17T14:42:49.123729",
     "status": "completed"
    },
    "tags": []
   },
   "source": [
    "#### Predict result for a person have details:\n",
    "gender: male\n",
    "age: 23.0\n",
    "hypertension: 0\n",
    "heart_disease: 0\n",
    "smoking_history: 0\n",
    "bmi: 22.9\n",
    "HbA1c_label: 5.4\n",
    "blood_glucose_lavel: 108"
   ]
  },
  {
   "cell_type": "code",
   "execution_count": 112,
   "id": "e27d7f1a",
   "metadata": {
    "execution": {
     "iopub.execute_input": "2023-05-17T14:42:50.376020Z",
     "iopub.status.busy": "2023-05-17T14:42:50.374801Z",
     "iopub.status.idle": "2023-05-17T14:42:50.386316Z",
     "shell.execute_reply": "2023-05-17T14:42:50.385035Z"
    },
    "papermill": {
     "duration": 0.438126,
     "end_time": "2023-05-17T14:42:50.389069",
     "exception": false,
     "start_time": "2023-05-17T14:42:49.950943",
     "status": "completed"
    },
    "tags": []
   },
   "outputs": [
    {
     "data": {
      "text/plain": [
       "array([[ 1.19060055, -0.89850156, -0.29492435, -0.20928467, -0.04945491,\n",
       "        -0.69051741, -0.1257119 , -0.73998911]])"
      ]
     },
     "execution_count": 112,
     "metadata": {},
     "output_type": "execute_result"
    }
   ],
   "source": [
    "## First, Apply feature scaling to this data\n",
    "## Second, Now predict value using our winning model randonforestclassifier\n",
    "person_X = stand.transform([[1,23.0, 0,0,0,22.9,5.4, 108]])\n",
    "person_X"
   ]
  },
  {
   "cell_type": "code",
   "execution_count": 113,
   "id": "09920fbc",
   "metadata": {
    "execution": {
     "iopub.execute_input": "2023-05-17T14:42:51.268389Z",
     "iopub.status.busy": "2023-05-17T14:42:51.267882Z",
     "iopub.status.idle": "2023-05-17T14:42:51.294263Z",
     "shell.execute_reply": "2023-05-17T14:42:51.292838Z"
    },
    "papermill": {
     "duration": 0.496316,
     "end_time": "2023-05-17T14:42:51.297130",
     "exception": false,
     "start_time": "2023-05-17T14:42:50.800814",
     "status": "completed"
    },
    "tags": []
   },
   "outputs": [
    {
     "data": {
      "text/plain": [
       "array([False])"
      ]
     },
     "execution_count": 113,
     "metadata": {},
     "output_type": "execute_result"
    }
   ],
   "source": [
    "person_predict = rfc_smote.predict(person_X)\n",
    "person_predict = (person_predict>0.5)\n",
    "person_predict"
   ]
  },
  {
   "cell_type": "markdown",
   "id": "ed30c9f1",
   "metadata": {
    "papermill": {
     "duration": 0.401375,
     "end_time": "2023-05-17T14:42:52.103977",
     "exception": false,
     "start_time": "2023-05-17T14:42:51.702602",
     "status": "completed"
    },
    "tags": []
   },
   "source": [
    "it means this person don't have diabetes.\n",
    "\n"
   ]
  },
  {
   "cell_type": "code",
   "execution_count": null,
   "id": "d1949c3e",
   "metadata": {
    "papermill": {
     "duration": 0.404159,
     "end_time": "2023-05-17T14:42:53.719186",
     "exception": false,
     "start_time": "2023-05-17T14:42:53.315027",
     "status": "completed"
    },
    "tags": []
   },
   "outputs": [],
   "source": []
  }
 ],
 "metadata": {
  "kernelspec": {
   "display_name": "Python 3",
   "language": "python",
   "name": "python3"
  },
  "language_info": {
   "codemirror_mode": {
    "name": "ipython",
    "version": 3
   },
   "file_extension": ".py",
   "mimetype": "text/x-python",
   "name": "python",
   "nbconvert_exporter": "python",
   "pygments_lexer": "ipython3",
   "version": "3.7.1"
  },
  "papermill": {
   "default_parameters": {},
   "duration": 1880.23392,
   "end_time": "2023-05-17T14:42:57.475863",
   "environment_variables": {},
   "exception": null,
   "input_path": "__notebook__.ipynb",
   "output_path": "__notebook__.ipynb",
   "parameters": {},
   "start_time": "2023-05-17T14:11:37.241943",
   "version": "2.4.0"
  }
 },
 "nbformat": 4,
 "nbformat_minor": 5
}
